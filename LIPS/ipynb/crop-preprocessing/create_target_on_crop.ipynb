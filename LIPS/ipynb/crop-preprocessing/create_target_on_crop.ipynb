{
 "cells": [
  {
   "cell_type": "code",
   "execution_count": 1,
   "id": "1a6e7fbe-7fd9-4000-ae4f-7b452937e6a8",
   "metadata": {},
   "outputs": [
    {
     "name": "stdout",
     "output_type": "stream",
     "text": [
      "INFO: Pandarallel will run on 8 workers.\n",
      "INFO: Pandarallel will use Memory file system to transfer data between the main process and workers.\n"
     ]
    }
   ],
   "source": [
    "import geopandas as gpd\n",
    "from glob import glob\n",
    "\n",
    "from rasterio.features import rasterize\n",
    "from rasterio.io import MemoryFile\n",
    "import rasterio.mask\n",
    "import rasterio\n",
    "\n",
    "import pandas as pd\n",
    "import numpy as np \n",
    "\n",
    "import matplotlib.pyplot as plt\n",
    "\n",
    "from tqdm import tqdm\n",
    "tqdm.pandas()\n",
    "\n",
    "from pandarallel import pandarallel\n",
    "pandarallel.initialize(progress_bar=True)"
   ]
  },
  {
   "cell_type": "code",
   "execution_count": 2,
   "id": "37d36b83-44c5-44ac-b328-48582b1be4eb",
   "metadata": {
    "tags": []
   },
   "outputs": [],
   "source": [
    "avoid_labels = {'SNE': 'Terreno Inutilizzato',\n",
    "\n",
    "                'PPH': 'Prato Permanente',\n",
    "\n",
    "                'SPH': 'Superficie pastorale',\n",
    "                'SPL': 'Superficie pastorale',\n",
    "                \n",
    "                'J6P': 'Maggese - rotazione lunga',\n",
    "                'J6S': 'Maggese - rotazione media',\n",
    "                'J5M': 'Maggese - temporaneo',\n",
    "\n",
    "                'PRL': 'Prato - rotazione lunga',\n",
    "                'PTR': 'Prato - temporaneo',\n",
    "\n",
    "                'LUZ': 'Erba Medica', \n",
    "                \n",
    "                'BOP': 'Bosco',\n",
    "                'TRE': 'Altro Trifoglio',\n",
    "                'BOR': 'Confine del campo',     \n",
    "               }\n",
    "\n",
    "\n",
    "valid_labels = {'VRC': 'Vitigno - Produttivo',\n",
    "                'VRN': 'Vitigno - Non  Produttivo',\n",
    "\n",
    "                'BTH': 'Grano tenero invernale',\n",
    "                'BDH': 'Grano duro invernale',\n",
    "\n",
    "                'MIS': 'Mais',\n",
    "                'TRN': 'Girasole',\n",
    "                \n",
    "                'ORH': 'Orzo Invernale', \n",
    "                'ORP': 'Orzo Primaverile',\n",
    "\n",
    "                'CZH': 'Colza Invernale',\n",
    "                \n",
    "                'MIE': 'Insilato di mais',\n",
    "                'TTH': 'Triticale Invernale',\n",
    "\n",
    "                'RGA': 'Loglio - temporaneo',\n",
    "                'MLG': 'Miscela di legumi',\n",
    "                'MCR': 'Cereali Misti', \n",
    "                \n",
    "                'VRG': 'Frutteto',\n",
    "                'TRN': 'Girasole',\n",
    " \n",
    "                'SOG': 'Sorgo',\n",
    "                'SOJ': 'Soia',\n",
    "                'NOX': 'Noce',\n",
    "                'SGH': 'Segale Invernale',\n",
    "                \n",
    "                'MLF': 'Misto di Legumi da Foraggio',\n",
    "                'BTA': 'Fascia Tampone' }\n",
    "\n",
    "labels = {**valid_labels, **avoid_labels}\n",
    "\n",
    "vocabulary = {v:i+1 for i, v in enumerate(labels)}"
   ]
  },
  {
   "cell_type": "raw",
   "id": "bf0f979e-b31f-4214-8fac-8a7ca93b2968",
   "metadata": {},
   "source": []
  },
  {
   "cell_type": "markdown",
   "id": "e992fe1a-a847-4ff4-899c-a9ea076b97cb",
   "metadata": {},
   "source": [
    "#### Tiles Selection\n",
    "- Extract information (polygons) of the tiles included into the anlysis. "
   ]
  },
  {
   "cell_type": "code",
   "execution_count": 4,
   "id": "2bf24cc4-6e15-44fb-b1a2-399031df6290",
   "metadata": {},
   "outputs": [],
   "source": [
    "gdf = gpd.read_file(glob('../../data/Sentinel-2-Shapefile-Index/*.shp')[1])\n",
    "gdf = gdf.to_crs('epsg:4326').set_index('Name')"
   ]
  },
  {
   "cell_type": "code",
   "execution_count": 5,
   "id": "0aafba14-3fd6-4021-9736-2599b3041326",
   "metadata": {},
   "outputs": [],
   "source": [
    "tiles = ['30TYR', '30TYP', '31TCJ']"
   ]
  },
  {
   "cell_type": "code",
   "execution_count": 6,
   "id": "190b7689-acf3-4ff5-a89c-5f638c775b1e",
   "metadata": {},
   "outputs": [],
   "source": [
    "from shapely.ops import unary_union\n",
    "boundary = unary_union(gdf.loc[tiles].geometry)"
   ]
  },
  {
   "cell_type": "raw",
   "id": "5e8cf386-df70-4050-91d4-f4ad6b3d6694",
   "metadata": {},
   "source": []
  },
  {
   "cell_type": "markdown",
   "id": "8413282c-2d30-44ea-a178-ba5d7f12ae12",
   "metadata": {},
   "source": [
    "#### Parcel Selection Rules:\n",
    "- Select only parcels greather than 2500 m2\n",
    "- Select only parcels that are within the selected tiles"
   ]
  },
  {
   "cell_type": "code",
   "execution_count": 7,
   "id": "f151d5ab-cf1c-48d2-8e78-711c917cf08f",
   "metadata": {},
   "outputs": [],
   "source": [
    "lower_area_bound = (50. * 50.) / 10000."
   ]
  },
  {
   "cell_type": "code",
   "execution_count": 8,
   "id": "8996f3c8-73d3-4982-a5d0-ad9bb76331de",
   "metadata": {},
   "outputs": [],
   "source": [
    "parcels = gpd.read_file('../../data/Parcels/Parcels_South_France.geojson')"
   ]
  },
  {
   "cell_type": "code",
   "execution_count": 9,
   "id": "90bfbb5f-aed1-48d5-9223-5ae92316e57e",
   "metadata": {},
   "outputs": [],
   "source": [
    "parcels = parcels[parcels.CODE_CULTU.isin(labels.keys())]\n",
    "parcels = parcels[parcels['SURF_PARC'] > lower_area_bound]"
   ]
  },
  {
   "cell_type": "code",
   "execution_count": 10,
   "id": "e55e5385-251e-4d89-a0c0-842433d1d199",
   "metadata": {},
   "outputs": [],
   "source": [
    "parcels = parcels[parcels.geometry.apply(lambda x: x.intersects(boundary))]"
   ]
  },
  {
   "cell_type": "code",
   "execution_count": 11,
   "id": "7c009ec4-24aa-4789-aeb7-7a0e41718644",
   "metadata": {},
   "outputs": [],
   "source": [
    "parcels['CODE_GROUP'] = parcels.CODE_CULTU.map(vocabulary)"
   ]
  },
  {
   "cell_type": "raw",
   "id": "9ed8313b-8743-4e47-8c09-87d3a29bbb36",
   "metadata": {},
   "source": []
  },
  {
   "cell_type": "code",
   "execution_count": 12,
   "id": "6fba737c-8931-4065-a96c-697533d3c28a",
   "metadata": {},
   "outputs": [],
   "source": [
    "crops = pd.concat([gpd.read_file('/extra/Sentinel-2-crops/T{}/metadata.json'.format(tile)).to_crs('epsg:4326') \n",
    "                   for tile in ['30TYR', '30TYP', '31TCJ']])"
   ]
  },
  {
   "cell_type": "code",
   "execution_count": 13,
   "id": "5305acfc-0146-4f92-9196-6fff73741894",
   "metadata": {},
   "outputs": [],
   "source": [
    "crops = crops.reset_index()"
   ]
  },
  {
   "cell_type": "raw",
   "id": "5de12b67-8cde-4cf9-92fb-d99d699d06ed",
   "metadata": {},
   "source": []
  },
  {
   "cell_type": "code",
   "execution_count": 14,
   "id": "61c66012-f18e-431d-a58c-b0d085f2b9c7",
   "metadata": {},
   "outputs": [],
   "source": [
    "profile = {'driver': \"GTiff\", 'height': 128, 'width': 128, \n",
    "           'dtype': 'uint16', 'nodata': None,'crs': \"EPSG:4326\",\n",
    "           'tiled': True}"
   ]
  },
  {
   "cell_type": "raw",
   "id": "7fda47be-fe67-4c11-b7c4-b48943be21fd",
   "metadata": {},
   "source": []
  },
  {
   "cell_type": "code",
   "execution_count": 15,
   "id": "19d232bd-9c6a-443c-bd30-2459c561c373",
   "metadata": {},
   "outputs": [],
   "source": [
    "def create_mask(crop):\n",
    "    transform = rasterio.transform.from_bounds(*(crop.geometry.bounds + (128, 128)))\n",
    "    mfile = MemoryFile().open(**{**profile, **{'transform': transform, 'count': 1}})\n",
    "    targets = parcels[parcels.geometry.apply(lambda x: crop.geometry.intersects(x))]\n",
    "\n",
    "    ### Coverage condition:\n",
    "    if targets.SURF_PARC.sum() > (100.*100. / 10000.):\n",
    "        mask  = np.zeros((128, 128))\n",
    "        check = np.zeros((128, 128))\n",
    "        for _, target in targets.iterrows():\n",
    "            aux = rasterio.mask.raster_geometry_mask(mfile, [target.geometry], \n",
    "                                                     crop=False, invert=True)\n",
    "            \n",
    "            mask  += aux[0].astype(int) * target['CODE_GROUP']\n",
    "            check += aux[0].astype(int)\n",
    "        \n",
    "        mask[check > 1] = 0\n",
    "        \n",
    "        filename = '/extra/Sentinel-2-crops/{}/TARGETS/TARGET_{}.npy'\n",
    "        np.save(open(filename.format(crop.tile, crop.id), 'wb'), mask)\n",
    "        \n",
    "        filename = '/extra/Sentinel-2-crops/{}/{}/*.npy'\n",
    "        files = glob(filename.format(crop.tile, crop.id))\n",
    "        dates = {str(i):f.split('/')[-1][:-4] for i,f in enumerate(files)}\n",
    "        \n",
    "        return {\n",
    "                    'Fold':crop['index']%5+1, \n",
    "                    'id':crop['id'],\n",
    "                    'ID_PATCH':'{}-{}'.format(crop.tile.lower(), crop['index']),\n",
    "                    'N_Parcel': len(targets),\n",
    "                    'Parcel_Cover': (mask!=0).sum() / (128*128), \n",
    "                    'TILE':crop.tile.lower(),\n",
    "                    'dates-S2': dates, \n",
    "                    'geometry':crop.geometry\n",
    "               }"
   ]
  },
  {
   "cell_type": "raw",
   "id": "4ada6f89-cd93-4ebe-bec6-2e488b2e3385",
   "metadata": {},
   "source": []
  },
  {
   "cell_type": "code",
   "execution_count": null,
   "id": "6053c5be-8d47-4d76-8d02-09744a5a3731",
   "metadata": {
    "collapsed": true,
    "jupyter": {
     "outputs_hidden": true
    },
    "tags": []
   },
   "outputs": [
    {
     "name": "stdout",
     "output_type": "stream",
     "text": [
      "> \u001b[0;32m/tmp/ipykernel_921/4111273383.py\u001b[0m(27)\u001b[0;36mcreate_mask\u001b[0;34m()\u001b[0m\n",
      "\u001b[0;32m     25 \u001b[0;31m\u001b[0;34m\u001b[0m\u001b[0m\n",
      "\u001b[0m\u001b[0;32m     26 \u001b[0;31m        return {\n",
      "\u001b[0m\u001b[0;32m---> 27 \u001b[0;31m                    \u001b[0;34m'Fold'\u001b[0m\u001b[0;34m:\u001b[0m\u001b[0mcrop\u001b[0m\u001b[0;34m[\u001b[0m\u001b[0;34m'index'\u001b[0m\u001b[0;34m]\u001b[0m\u001b[0;34m%\u001b[0m\u001b[0;36m5\u001b[0m\u001b[0;34m+\u001b[0m\u001b[0;36m1\u001b[0m\u001b[0;34m,\u001b[0m\u001b[0;34m\u001b[0m\u001b[0;34m\u001b[0m\u001b[0m\n",
      "\u001b[0m\u001b[0;32m     28 \u001b[0;31m                    \u001b[0;34m'id'\u001b[0m\u001b[0;34m:\u001b[0m\u001b[0mcrop\u001b[0m\u001b[0;34m[\u001b[0m\u001b[0;34m'id'\u001b[0m\u001b[0;34m]\u001b[0m\u001b[0;34m,\u001b[0m\u001b[0;34m\u001b[0m\u001b[0;34m\u001b[0m\u001b[0m\n",
      "\u001b[0m\u001b[0;32m     29 \u001b[0;31m                    \u001b[0;34m'ID_PATCH'\u001b[0m\u001b[0;34m:\u001b[0m\u001b[0;34m'{}-{}'\u001b[0m\u001b[0;34m.\u001b[0m\u001b[0mformat\u001b[0m\u001b[0;34m(\u001b[0m\u001b[0mcrop\u001b[0m\u001b[0;34m.\u001b[0m\u001b[0mtile\u001b[0m\u001b[0;34m.\u001b[0m\u001b[0mlower\u001b[0m\u001b[0;34m(\u001b[0m\u001b[0;34m)\u001b[0m\u001b[0;34m,\u001b[0m \u001b[0mcrop\u001b[0m\u001b[0;34m[\u001b[0m\u001b[0;34m'index'\u001b[0m\u001b[0;34m]\u001b[0m\u001b[0;34m)\u001b[0m\u001b[0;34m,\u001b[0m\u001b[0;34m\u001b[0m\u001b[0;34m\u001b[0m\u001b[0m\n",
      "\u001b[0m\n"
     ]
    },
    {
     "name": "stdin",
     "output_type": "stream",
     "text": [
      "ipdb>  mask.max()\n"
     ]
    },
    {
     "name": "stdout",
     "output_type": "stream",
     "text": [
      "34.0\n"
     ]
    },
    {
     "name": "stdin",
     "output_type": "stream",
     "text": [
      "ipdb>  check.max()\n"
     ]
    },
    {
     "name": "stdout",
     "output_type": "stream",
     "text": [
      "2.0\n"
     ]
    },
    {
     "name": "stdin",
     "output_type": "stream",
     "text": [
      "ipdb>   target['CODE_GROUP']\n"
     ]
    },
    {
     "name": "stdout",
     "output_type": "stream",
     "text": [
      "21\n"
     ]
    },
    {
     "name": "stdin",
     "output_type": "stream",
     "text": [
      "ipdb>  parcels.CODE_GROUP\n"
     ]
    },
    {
     "name": "stdout",
     "output_type": "stream",
     "text": [
      "900506      7\n",
      "900507      7\n",
      "900508      7\n",
      "900596      3\n",
      "900617     28\n",
      "           ..\n",
      "3135678    23\n",
      "3135679    23\n",
      "3135680    23\n",
      "3135681    27\n",
      "3135682    27\n",
      "Name: CODE_GROUP, Length: 587777, dtype: int64\n"
     ]
    },
    {
     "name": "stdin",
     "output_type": "stream",
     "text": [
      "ipdb>  parcels.CODE_GROUP.max()\n"
     ]
    },
    {
     "name": "stdout",
     "output_type": "stream",
     "text": [
      "34\n"
     ]
    }
   ],
   "source": [
    "out = crops.apply(create_mask, axis=1)"
   ]
  },
  {
   "cell_type": "code",
   "execution_count": null,
   "id": "537b0989-49a2-40e5-b4af-ecef55038cc1",
   "metadata": {},
   "outputs": [],
   "source": [
    "out = gpd.GeoDataFrame(out.dropna().tolist())\n",
    "out.to_file('../../data/Crops/metadata.geojson')"
   ]
  }
 ],
 "metadata": {
  "kernelspec": {
   "display_name": "Python 3 (ipykernel)",
   "language": "python",
   "name": "python3"
  },
  "language_info": {
   "codemirror_mode": {
    "name": "ipython",
    "version": 3
   },
   "file_extension": ".py",
   "mimetype": "text/x-python",
   "name": "python",
   "nbconvert_exporter": "python",
   "pygments_lexer": "ipython3",
   "version": "3.10.6"
  }
 },
 "nbformat": 4,
 "nbformat_minor": 5
}
