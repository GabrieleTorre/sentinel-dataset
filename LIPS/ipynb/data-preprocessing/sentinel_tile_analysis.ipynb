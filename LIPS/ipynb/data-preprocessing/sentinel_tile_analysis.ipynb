{
 "cells": [
  {
   "cell_type": "code",
   "execution_count": 1,
   "id": "649f6f36-0221-4c11-82a0-fcddd118821d",
   "metadata": {},
   "outputs": [],
   "source": [
    "from shapely.ops import unary_union\n",
    "import geopandas as gpd\n",
    "from glob import glob\n",
    "import folium"
   ]
  },
  {
   "cell_type": "markdown",
   "id": "9ff3a40b-fee7-46d3-84d6-4861fd7a7b2e",
   "metadata": {},
   "source": [
    "### Selezionare i tile che corrispondono all'area di interesse. Francia del sud."
   ]
  },
  {
   "cell_type": "code",
   "execution_count": 2,
   "id": "f6137ab2-97df-4f4b-a280-dcd026d34b9a",
   "metadata": {},
   "outputs": [],
   "source": [
    "yrange = (41.282893, 45.845442)\n",
    "xrange = (-1.888275, 10.538767)"
   ]
  },
  {
   "cell_type": "raw",
   "id": "04a1ffb4-0751-45b2-b404-7cef8954beb9",
   "metadata": {},
   "source": []
  },
  {
   "cell_type": "code",
   "execution_count": 5,
   "id": "f4346e51-6c67-411c-a91a-62635ecd2b29",
   "metadata": {},
   "outputs": [],
   "source": [
    "files = glob('../../data/Sentinel-2-Shapefile-Index/*.shp')"
   ]
  },
  {
   "cell_type": "code",
   "execution_count": 6,
   "id": "2bf24cc4-6e15-44fb-b1a2-399031df6290",
   "metadata": {},
   "outputs": [],
   "source": [
    "gdf = gpd.read_file(files[1]).to_crs('epsg:4326')"
   ]
  },
  {
   "cell_type": "code",
   "execution_count": 7,
   "id": "2ad1d204-36f8-4296-b158-cf64b9cefee1",
   "metadata": {},
   "outputs": [],
   "source": [
    "gdf['centroid_x'] = gdf.geometry.apply(lambda x: x.centroid.x)\n",
    "gdf['centroid_y'] = gdf.geometry.apply(lambda x: x.centroid.y)"
   ]
  },
  {
   "cell_type": "code",
   "execution_count": 8,
   "id": "0aafba14-3fd6-4021-9736-2599b3041326",
   "metadata": {},
   "outputs": [],
   "source": [
    "selection = (gdf.centroid_x > xrange[0]) & (gdf.centroid_x < xrange[1]) & \\\n",
    "            (gdf.centroid_y > yrange[0]) & (gdf.centroid_y < yrange[1])"
   ]
  },
  {
   "cell_type": "raw",
   "id": "2eadc9ef-e4a1-4a1c-ac75-9655f3a0084c",
   "metadata": {},
   "source": []
  },
  {
   "cell_type": "code",
   "execution_count": 9,
   "id": "d7af11ae-b8bb-4319-9226-2b410a003d67",
   "metadata": {},
   "outputs": [],
   "source": [
    "gdf = gdf[selection]"
   ]
  },
  {
   "cell_type": "code",
   "execution_count": 10,
   "id": "b6a70a42-6c1c-43d9-aa56-7bb0b7af445b",
   "metadata": {},
   "outputs": [
    {
     "data": {
      "text/html": [
       "<div>\n",
       "<style scoped>\n",
       "    .dataframe tbody tr th:only-of-type {\n",
       "        vertical-align: middle;\n",
       "    }\n",
       "\n",
       "    .dataframe tbody tr th {\n",
       "        vertical-align: top;\n",
       "    }\n",
       "\n",
       "    .dataframe thead th {\n",
       "        text-align: right;\n",
       "    }\n",
       "</style>\n",
       "<table border=\"1\" class=\"dataframe\">\n",
       "  <thead>\n",
       "    <tr style=\"text-align: right;\">\n",
       "      <th></th>\n",
       "      <th>Name</th>\n",
       "      <th>geometry</th>\n",
       "      <th>centroid_x</th>\n",
       "      <th>centroid_y</th>\n",
       "    </tr>\n",
       "  </thead>\n",
       "  <tbody>\n",
       "    <tr>\n",
       "      <th>28505</th>\n",
       "      <td>30TXM</td>\n",
       "      <td>POLYGON Z ((-1.78400 42.44624 0.00000, -0.4497...</td>\n",
       "      <td>-1.131336</td>\n",
       "      <td>41.942375</td>\n",
       "    </tr>\n",
       "    <tr>\n",
       "      <th>28506</th>\n",
       "      <td>30TXN</td>\n",
       "      <td>POLYGON Z ((-1.76619 43.34620 0.00000, -0.4124...</td>\n",
       "      <td>-1.104440</td>\n",
       "      <td>42.842113</td>\n",
       "    </tr>\n",
       "    <tr>\n",
       "      <th>28507</th>\n",
       "      <td>30TXP</td>\n",
       "      <td>POLYGON Z ((-1.74752 44.24655 0.00000, -0.3733...</td>\n",
       "      <td>-1.076262</td>\n",
       "      <td>43.742233</td>\n",
       "    </tr>\n",
       "    <tr>\n",
       "      <th>28508</th>\n",
       "      <td>30TXQ</td>\n",
       "      <td>POLYGON Z ((-1.72796 45.14675 0.00000, -0.3323...</td>\n",
       "      <td>-1.046746</td>\n",
       "      <td>44.642196</td>\n",
       "    </tr>\n",
       "    <tr>\n",
       "      <th>28509</th>\n",
       "      <td>30TXR</td>\n",
       "      <td>POLYGON Z ((-1.70747 46.04627 0.00000, -0.2894...</td>\n",
       "      <td>-1.015834</td>\n",
       "      <td>45.541460</td>\n",
       "    </tr>\n",
       "  </tbody>\n",
       "</table>\n",
       "</div>"
      ],
      "text/plain": [
       "        Name                                           geometry  centroid_x  \\\n",
       "28505  30TXM  POLYGON Z ((-1.78400 42.44624 0.00000, -0.4497...   -1.131336   \n",
       "28506  30TXN  POLYGON Z ((-1.76619 43.34620 0.00000, -0.4124...   -1.104440   \n",
       "28507  30TXP  POLYGON Z ((-1.74752 44.24655 0.00000, -0.3733...   -1.076262   \n",
       "28508  30TXQ  POLYGON Z ((-1.72796 45.14675 0.00000, -0.3323...   -1.046746   \n",
       "28509  30TXR  POLYGON Z ((-1.70747 46.04627 0.00000, -0.2894...   -1.015834   \n",
       "\n",
       "       centroid_y  \n",
       "28505   41.942375  \n",
       "28506   42.842113  \n",
       "28507   43.742233  \n",
       "28508   44.642196  \n",
       "28509   45.541460  "
      ]
     },
     "execution_count": 10,
     "metadata": {},
     "output_type": "execute_result"
    }
   ],
   "source": [
    "gdf.head()"
   ]
  },
  {
   "cell_type": "raw",
   "id": "b3b39a35-ceec-4e6a-9580-dafd6e9219ae",
   "metadata": {},
   "source": []
  },
  {
   "cell_type": "code",
   "execution_count": 11,
   "id": "c3ebc9e0-e734-45bf-92be-87a57daabb8d",
   "metadata": {
    "tags": []
   },
   "outputs": [
    {
     "data": {
      "text/html": [
       "<div style=\"width:100%;\"><div style=\"position:relative;width:100%;height:0;padding-bottom:60%;\"><span style=\"color:#565656\">Make this Notebook Trusted to load map: File -> Trust Notebook</span><iframe srcdoc=\"&lt;!DOCTYPE html&gt;\n",
       "&lt;html&gt;\n",
       "&lt;head&gt;\n",
       "    \n",
       "    &lt;meta http-equiv=&quot;content-type&quot; content=&quot;text/html; charset=UTF-8&quot; /&gt;\n",
       "    \n",
       "        &lt;script&gt;\n",
       "            L_NO_TOUCH = false;\n",
       "            L_DISABLE_3D = false;\n",
       "        &lt;/script&gt;\n",
       "    \n",
       "    &lt;style&gt;html, body {width: 100%;height: 100%;margin: 0;padding: 0;}&lt;/style&gt;\n",
       "    &lt;style&gt;#map {position:absolute;top:0;bottom:0;right:0;left:0;}&lt;/style&gt;\n",
       "    &lt;script src=&quot;https://cdn.jsdelivr.net/npm/leaflet@1.6.0/dist/leaflet.js&quot;&gt;&lt;/script&gt;\n",
       "    &lt;script src=&quot;https://code.jquery.com/jquery-1.12.4.min.js&quot;&gt;&lt;/script&gt;\n",
       "    &lt;script src=&quot;https://maxcdn.bootstrapcdn.com/bootstrap/3.2.0/js/bootstrap.min.js&quot;&gt;&lt;/script&gt;\n",
       "    &lt;script src=&quot;https://cdnjs.cloudflare.com/ajax/libs/Leaflet.awesome-markers/2.0.2/leaflet.awesome-markers.js&quot;&gt;&lt;/script&gt;\n",
       "    &lt;link rel=&quot;stylesheet&quot; href=&quot;https://cdn.jsdelivr.net/npm/leaflet@1.6.0/dist/leaflet.css&quot;/&gt;\n",
       "    &lt;link rel=&quot;stylesheet&quot; href=&quot;https://maxcdn.bootstrapcdn.com/bootstrap/3.2.0/css/bootstrap.min.css&quot;/&gt;\n",
       "    &lt;link rel=&quot;stylesheet&quot; href=&quot;https://maxcdn.bootstrapcdn.com/bootstrap/3.2.0/css/bootstrap-theme.min.css&quot;/&gt;\n",
       "    &lt;link rel=&quot;stylesheet&quot; href=&quot;https://maxcdn.bootstrapcdn.com/font-awesome/4.6.3/css/font-awesome.min.css&quot;/&gt;\n",
       "    &lt;link rel=&quot;stylesheet&quot; href=&quot;https://cdnjs.cloudflare.com/ajax/libs/Leaflet.awesome-markers/2.0.2/leaflet.awesome-markers.css&quot;/&gt;\n",
       "    &lt;link rel=&quot;stylesheet&quot; href=&quot;https://cdn.jsdelivr.net/gh/python-visualization/folium/folium/templates/leaflet.awesome.rotate.min.css&quot;/&gt;\n",
       "    \n",
       "            &lt;meta name=&quot;viewport&quot; content=&quot;width=device-width,\n",
       "                initial-scale=1.0, maximum-scale=1.0, user-scalable=no&quot; /&gt;\n",
       "            &lt;style&gt;\n",
       "                #map_3bfd64bf587dd3b4160d2dc96167f5d1 {\n",
       "                    position: relative;\n",
       "                    width: 100.0%;\n",
       "                    height: 100.0%;\n",
       "                    left: 0.0%;\n",
       "                    top: 0.0%;\n",
       "                }\n",
       "            &lt;/style&gt;\n",
       "        \n",
       "&lt;/head&gt;\n",
       "&lt;body&gt;\n",
       "    \n",
       "    \n",
       "            &lt;div class=&quot;folium-map&quot; id=&quot;map_3bfd64bf587dd3b4160d2dc96167f5d1&quot; &gt;&lt;/div&gt;\n",
       "        \n",
       "&lt;/body&gt;\n",
       "&lt;script&gt;\n",
       "    \n",
       "    \n",
       "            var map_3bfd64bf587dd3b4160d2dc96167f5d1 = L.map(\n",
       "                &quot;map_3bfd64bf587dd3b4160d2dc96167f5d1&quot;,\n",
       "                {\n",
       "                    center: [44.0, 5.0],\n",
       "                    crs: L.CRS.EPSG3857,\n",
       "                    zoom: 6,\n",
       "                    zoomControl: true,\n",
       "                    preferCanvas: false,\n",
       "                }\n",
       "            );\n",
       "\n",
       "            \n",
       "\n",
       "        \n",
       "    \n",
       "            var tile_layer_d090b408bb0b2dd06aef9b82d49d577e = L.tileLayer(\n",
       "                &quot;https://stamen-tiles-{s}.a.ssl.fastly.net/terrain/{z}/{x}/{y}.jpg&quot;,\n",
       "                {&quot;attribution&quot;: &quot;Map tiles by \\u003ca href=\\&quot;http://stamen.com\\&quot;\\u003eStamen Design\\u003c/a\\u003e, under \\u003ca href=\\&quot;http://creativecommons.org/licenses/by/3.0\\&quot;\\u003eCC BY 3.0\\u003c/a\\u003e. Data by \\u0026copy; \\u003ca href=\\&quot;http://openstreetmap.org\\&quot;\\u003eOpenStreetMap\\u003c/a\\u003e, under \\u003ca href=\\&quot;http://creativecommons.org/licenses/by-sa/3.0\\&quot;\\u003eCC BY SA\\u003c/a\\u003e.&quot;, &quot;detectRetina&quot;: false, &quot;maxNativeZoom&quot;: 18, &quot;maxZoom&quot;: 18, &quot;minZoom&quot;: 0, &quot;noWrap&quot;: false, &quot;opacity&quot;: 1, &quot;subdomains&quot;: &quot;abc&quot;, &quot;tms&quot;: false}\n",
       "            ).addTo(map_3bfd64bf587dd3b4160d2dc96167f5d1);\n",
       "        \n",
       "    \n",
       "        function geo_json_0ced878c76b2181d762d2c3b2d5ed9a1_styler(feature) {\n",
       "            switch(feature.id) {\n",
       "                default:\n",
       "                    return {&quot;color&quot;: &quot;#dd3497&quot;, &quot;fillColor&quot;: &quot;none&quot;};\n",
       "            }\n",
       "        }\n",
       "\n",
       "        function geo_json_0ced878c76b2181d762d2c3b2d5ed9a1_onEachFeature(feature, layer) {\n",
       "            layer.on({\n",
       "            });\n",
       "        };\n",
       "        var geo_json_0ced878c76b2181d762d2c3b2d5ed9a1 = L.geoJson(null, {\n",
       "                onEachFeature: geo_json_0ced878c76b2181d762d2c3b2d5ed9a1_onEachFeature,\n",
       "            \n",
       "                style: geo_json_0ced878c76b2181d762d2c3b2d5ed9a1_styler,\n",
       "        });\n",
       "\n",
       "        function geo_json_0ced878c76b2181d762d2c3b2d5ed9a1_add (data) {\n",
       "            geo_json_0ced878c76b2181d762d2c3b2d5ed9a1\n",
       "                .addData(data)\n",
       "                .addTo(map_3bfd64bf587dd3b4160d2dc96167f5d1);\n",
       "        }\n",
       "            geo_json_0ced878c76b2181d762d2c3b2d5ed9a1_add({&quot;bbox&quot;: [-1.8026540429999613, 41.40403474500005, 10.418904144000066, 46.053574369000046], &quot;features&quot;: [{&quot;bbox&quot;: [-1.8026540429999613, 41.43633638000006, -0.44978706699993154, 42.446240862000025], &quot;geometry&quot;: {&quot;coordinates&quot;: [[[-1.7840029769999433, 42.446240862000025, 0.0], [-0.44978706699993154, 42.42431413700007, 0.0], [-0.4888634529999649, 41.43633638000006, 0.0], [-1.8026540429999613, 41.45752019100007, 0.0], [-1.7840029769999433, 42.446240862000025, 0.0]]], &quot;type&quot;: &quot;Polygon&quot;}, &quot;id&quot;: &quot;28505&quot;, &quot;properties&quot;: {&quot;Name&quot;: &quot;30TXM&quot;, &quot;centroid_x&quot;: -1.131335547578984, &quot;centroid_y&quot;: 41.942374983594775}, &quot;type&quot;: &quot;Feature&quot;}, {&quot;bbox&quot;: [-1.7857128659999262, 42.335782239000025, -0.4124638159999563, 43.34620000900003], &quot;geometry&quot;: {&quot;coordinates&quot;: [[[-1.7661878619999243, 43.34620000900003, 0.0], [-0.4124638159999563, 43.323576596000066, 0.0], [-0.4533694279999736, 42.335782239000025, 0.0], [-1.7857128659999262, 42.35764145300004, 0.0], [-1.7661878619999243, 43.34620000900003, 0.0]]], &quot;type&quot;: &quot;Polygon&quot;}, &quot;id&quot;: &quot;28506&quot;, &quot;properties&quot;: {&quot;Name&quot;: &quot;30TXN&quot;, &quot;centroid_x&quot;: -1.104439811493214, &quot;centroid_y&quot;: 42.842112562392686}, &quot;type&quot;: &quot;Feature&quot;}, {&quot;bbox&quot;: [-1.7679672999999525, 43.235600960000056, -0.3733540259999586, 44.24655093400003], &quot;geometry&quot;: {&quot;coordinates&quot;: [[[-1.747519127999965, 44.24655093400003, 0.0], [-0.3733540259999586, 44.22320974000007, 0.0], [-0.41619171999997207, 43.235600960000056, 0.0], [-1.7679672999999525, 43.258155319000025, 0.0], [-1.747519127999965, 44.24655093400003, 0.0]]], &quot;type&quot;: &quot;Polygon&quot;}, &quot;id&quot;: &quot;28507&quot;, &quot;properties&quot;: {&quot;Name&quot;: &quot;30TXP&quot;, &quot;centroid_x&quot;: -1.0762617950770872, &quot;centroid_y&quot;: 43.74223331685825}, &quot;type&quot;: &quot;Feature&quot;}, {&quot;bbox&quot;: [-1.7493830749999688, 44.13525072500005, -0.33237892299996474, 45.146752855000045], &quot;geometry&quot;: {&quot;coordinates&quot;: [[[-1.7279590319999443, 45.146752855000045, 0.0], [-0.33237892299996474, 45.12267188000004, 0.0], [-0.3772587909999743, 44.13525072500005, 0.0], [-1.7493830749999688, 44.158520786000054, 0.0], [-1.7279590319999443, 45.146752855000045, 0.0]]], &quot;type&quot;: &quot;Polygon&quot;}, &quot;id&quot;: &quot;28508&quot;, &quot;properties&quot;: {&quot;Name&quot;: &quot;30TXQ&quot;, &quot;centroid_x&quot;: -1.0467458943406043, &quot;centroid_y&quot;: 44.64219597358757}, &quot;type&quot;: &quot;Feature&quot;}, {&quot;bbox&quot;: [-1.7299243279999246, 45.03419014000008, -0.2894558519999464, 46.04626545600007], &quot;geometry&quot;: {&quot;coordinates&quot;: [[[-1.7074679639999317, 46.04626545600007, 0.0], [-0.2894558519999464, 46.02142174200003, 0.0], [-0.33649579199993696, 45.03419014000008, 0.0], [-1.7299243279999246, 45.05819732000003, 0.0], [-1.7074679639999317, 46.04626545600007, 0.0]]], &quot;type&quot;: &quot;Polygon&quot;}, &quot;id&quot;: &quot;28509&quot;, &quot;properties&quot;: {&quot;Name&quot;: &quot;30TXR&quot;, &quot;centroid_x&quot;: -1.0158338396781477, &quot;centroid_y&quot;: 45.54145970536116}, &quot;type&quot;: &quot;Feature&quot;}, {&quot;bbox&quot;: [-0.6065392229999702, 41.40403474500005, 0.7631364330000565, 42.42691199500007], &quot;geometry&quot;: {&quot;coordinates&quot;: [[[-0.5692895469999257, 42.42691199500007, 0.0], [0.7631364330000565, 42.39088066200003, 0.0], [0.7055622980000749, 41.40403474500005, 0.0], [-0.6065392229999702, 41.43884624400005, 0.0], [-0.5692895469999257, 42.42691199500007, 0.0]]], &quot;type&quot;: &quot;Polygon&quot;}, &quot;id&quot;: &quot;28514&quot;, &quot;properties&quot;: {&quot;Name&quot;: &quot;30TYM&quot;, &quot;centroid_x&quot;: 0.07320305055402829, &quot;centroid_y&quot;: 41.916437288325426}, &quot;type&quot;: &quot;Feature&quot;}, {&quot;bbox&quot;: [-0.5727044509999359, 42.30245161500005, 0.8181237040000724, 43.32625697100008], &quot;geometry&quot;: {&quot;coordinates&quot;: [[[-0.5337108589999389, 43.32625697100008, 0.0], [0.8181237040000724, 43.28908179800004, 0.0], [0.7578584450000676, 42.30245161500005, 0.0], [-0.5727044509999359, 42.33837210100006, 0.0], [-0.5337108589999389, 43.32625697100008, 0.0]]], &quot;type&quot;: &quot;Polygon&quot;}, &quot;id&quot;: &quot;28515&quot;, &quot;properties&quot;: {&quot;Name&quot;: &quot;30TYN&quot;, &quot;centroid_x&quot;: 0.11738109341018425, &quot;centroid_y&quot;: 42.81534962057586}, &quot;type&quot;: &quot;Feature&quot;}, {&quot;bbox&quot;: [-0.5372645219999299, 43.201211355000055, 0.8757389460000695, 44.22597512700003], &quot;geometry&quot;: {&quot;coordinates&quot;: [[[-0.4964289329999474, 44.22597512700003, 0.0], [0.8757389460000695, 44.187621583000066, 0.0], [0.8126316600000223, 43.201211355000055, 0.0], [-0.5372645219999299, 43.23827315600005, 0.0], [-0.4964289329999474, 44.22597512700003, 0.0]]], &quot;type&quot;: &quot;Polygon&quot;}, &quot;id&quot;: &quot;28516&quot;, &quot;properties&quot;: {&quot;Name&quot;: &quot;30TYP&quot;, &quot;centroid_x&quot;: 0.1636628568855088, &quot;centroid_y&quot;: 43.714620595417834}, &quot;type&quot;: &quot;Feature&quot;}, {&quot;bbox&quot;: [-0.5001512109999453, 44.09977091700006, 0.9360975560000497, 45.125524883000026], &quot;geometry&quot;: {&quot;coordinates&quot;: [[[-0.4573686429999384, 45.125524883000026, 0.0], [0.9360975560000497, 45.08595696000003, 0.0], [0.8699867660000677, 44.09977091700006, 0.0], [-0.5001512109999453, 44.13800768700003, 0.0], [-0.4573686429999384, 45.125524883000026, 0.0]]], &quot;type&quot;: &quot;Polygon&quot;}, &quot;id&quot;: &quot;28517&quot;, &quot;properties&quot;: {&quot;Name&quot;: &quot;30TYQ&quot;, &quot;centroid_x&quot;: 0.2121392702548199, &quot;centroid_y&quot;: 44.613707908448525}, &quot;type&quot;: &quot;Feature&quot;}, {&quot;bbox&quot;: [-0.46129313699992736, 44.997587612000075, 0.9993205600000579, 46.02436507500005], &quot;geometry&quot;: {&quot;coordinates&quot;: [[[-0.4164511599999514, 46.02436507500005, 0.0], [0.9993205600000579, 45.98354520600003, 0.0], [0.9300333910000518, 44.997587612000075, 0.0], [-0.46129313699992736, 45.037034403000064, 0.0], [-0.4164511599999514, 46.02436507500005, 0.0]]], &quot;type&quot;: &quot;Polygon&quot;}, &quot;id&quot;: &quot;28518&quot;, &quot;properties&quot;: {&quot;Name&quot;: &quot;30TYR&quot;, &quot;centroid_x&quot;: 0.26290559012556464, &quot;centroid_y&quot;: 45.51206964226238}, &quot;type&quot;: &quot;Feature&quot;}, {&quot;bbox&quot;: [-0.6450457659999529, 41.40772618900007, 0.7230334330000687, 42.429360872000075], &quot;geometry&quot;: {&quot;coordinates&quot;: [[[-0.6450457659999529, 42.39470139300005, 0.0], [0.6875927590000401, 42.429360872000075, 0.0], [0.7230334330000687, 41.44121216600007, 0.0], [-0.5892686679999315, 41.40772618900007, 0.0], [-0.6450457659999529, 42.39470139300005, 0.0]]], &quot;type&quot;: &quot;Polygon&quot;}, &quot;id&quot;: &quot;29420&quot;, &quot;properties&quot;: {&quot;Name&quot;: &quot;31TBG&quot;, &quot;centroid_x&quot;: 0.0440918062127862, &quot;centroid_y&quot;: 41.91951941288591}, &quot;type&quot;: &quot;Feature&quot;}, {&quot;bbox&quot;: [0.5688037330000384, 41.438836285000036, 1.9199728400000708, 42.447443029000056], &quot;geometry&quot;: {&quot;coordinates&quot;: [[[0.5688037330000384, 42.426901687000054, 0.0], [1.9031483160000562, 42.447443029000056, 0.0], [1.9199728400000708, 41.45868161300007, 0.0], [0.6060608360000401, 41.438836285000036, 0.0], [0.5688037330000384, 42.426901687000054, 0.0]]], &quot;type&quot;: &quot;Polygon&quot;}, &quot;id&quot;: &quot;29423&quot;, &quot;properties&quot;: {&quot;Name&quot;: &quot;31TCG&quot;, &quot;centroid_x&quot;: 1.249504538034947, &quot;centroid_y&quot;: 41.94423797610305}, &quot;type&quot;: &quot;Feature&quot;}, {&quot;bbox&quot;: [0.5332179510000401, 42.33836182500005, 1.904690753000068, 43.34744038800005], &quot;geometry&quot;: {&quot;coordinates&quot;: [[[0.5332179510000401, 43.326246335000064, 0.0], [1.8870778350000705, 43.34744038800005, 0.0], [1.904690753000068, 42.35883991700007, 0.0], [0.5722193180000659, 42.33836182500005, 0.0], [0.5332179510000401, 43.326246335000064, 0.0]]], &quot;type&quot;: &quot;Polygon&quot;}, &quot;id&quot;: &quot;29424&quot;, &quot;properties&quot;: {&quot;Name&quot;: &quot;31TCH&quot;, &quot;centroid_x&quot;: 1.2243073740785066, &quot;centroid_y&quot;: 42.84403485569881}, &quot;type&quot;: &quot;Feature&quot;}, {&quot;bbox&quot;: [0.49592859300003056, 43.23826255300003, 1.888683014000037, 44.247830683000075], &quot;geometry&quot;: {&quot;coordinates&quot;: [[[0.49592859300003056, 44.22596415400005, 0.0], [1.8702372870000659, 44.247830683000075, 0.0], [1.888683014000037, 43.25939191000003, 0.0], [0.5367723230000365, 43.23826255300003, 0.0], [0.49592859300003056, 44.22596415400005, 0.0]]], &quot;type&quot;: &quot;Polygon&quot;}, &quot;id&quot;: &quot;29425&quot;, &quot;properties&quot;: {&quot;Name&quot;: &quot;31TCJ&quot;, &quot;centroid_x&quot;: 1.197908807940972, &quot;centroid_y&quot;: 43.744216676516054}, &quot;type&quot;: &quot;Feature&quot;}, {&quot;bbox&quot;: [0.45686051700005237, 44.137996748000035, 1.871918704000052, 45.148073182000076], &quot;geometry&quot;: {&quot;coordinates&quot;: [[[0.45686051700005237, 45.12551356100005, 0.0], [1.8525926180000738, 45.148073182000076, 0.0], [1.871918704000052, 44.15979663300004, 0.0], [0.4996516130000259, 44.137996748000035, 0.0], [0.45686051700005237, 45.12551356100005, 0.0]]], &quot;type&quot;: &quot;Polygon&quot;}, &quot;id&quot;: &quot;29426&quot;, &quot;properties&quot;: {&quot;Name&quot;: &quot;31TCK&quot;, &quot;centroid_x&quot;: 1.1702567303518567, &quot;centroid_y&quot;: 44.644242239541335}, &quot;type&quot;: &quot;Feature&quot;}, {&quot;bbox&quot;: [0.41593488000006573, 45.03702311600006, 1.8543654640000682, 46.04762762200005], &quot;geometry&quot;: {&quot;coordinates&quot;: [[[0.41593488000006573, 46.02435339600004, 0.0], [1.8341080900000293, 46.04762762200005, 0.0], [1.8543654640000682, 45.05951360000006, 0.0], [0.4607857930000705, 45.03702311600006, 0.0], [0.41593488000006573, 46.02435339600004, 0.0]]], &quot;type&quot;: &quot;Polygon&quot;}, &quot;id&quot;: &quot;29427&quot;, &quot;properties&quot;: {&quot;Name&quot;: &quot;31TCL&quot;, &quot;centroid_x&quot;: 1.1412965334258691, &quot;centroid_y&quot;: 45.54357079663658}, &quot;type&quot;: &quot;Feature&quot;}, {&quot;bbox&quot;: [1.783516685000052, 41.45751520600004, 3.1186941740000407, 42.45262974500008], &quot;geometry&quot;: {&quot;coordinates&quot;: [[[1.783516685000052, 42.44623570200008, 0.0], [3.1186941740000407, 42.45262974500008, 0.0], [3.116873103000046, 41.46369251600004, 0.0], [1.802175205000026, 41.45751520600004, 0.0], [1.783516685000052, 42.44623570200008, 0.0]]], &quot;type&quot;: &quot;Polygon&quot;}, &quot;id&quot;: &quot;29432&quot;, &quot;properties&quot;: {&quot;Name&quot;: &quot;31TDG&quot;, &quot;centroid_x&quot;: 2.4553172982602174, &quot;centroid_y&quot;: 41.95629211468772}, &quot;type&quot;: &quot;Feature&quot;}, {&quot;bbox&quot;: [1.765694450000069, 42.35763630800005, 3.1204336460000377, 43.35279198500007], &quot;geometry&quot;: {&quot;coordinates&quot;: [[[1.765694450000069, 43.34619468500006, 0.0], [3.1204336460000377, 43.35279198500007, 0.0], [3.118527221000022, 42.36401065600006, 0.0], [1.785227257000031, 42.35763630800005, 0.0], [1.765694450000069, 43.34619468500006, 0.0]]], &quot;type&quot;: &quot;Polygon&quot;}, &quot;id&quot;: &quot;29433&quot;, &quot;properties&quot;: {&quot;Name&quot;: &quot;31TDH&quot;, &quot;centroid_x&quot;: 2.447472463748645, &quot;centroid_y&quot;: 42.85647277606667}, &quot;type&quot;: &quot;Feature&quot;}, {&quot;bbox&quot;: [1.7470182540000678, 43.258150010000065, 3.12225649100003, 44.25335216000008], &quot;geometry&quot;: {&quot;coordinates&quot;: [[[1.7470182540000678, 44.24654544100008, 0.0], [3.12225649100003, 44.25335216000008, 0.0], [3.1202599000000646, 43.26472716300003, 0.0], [1.7674745990000247, 43.258150010000065, 0.0], [1.7470182540000678, 44.24654544100008, 0.0]]], &quot;type&quot;: &quot;Polygon&quot;}, &quot;id&quot;: &quot;29434&quot;, &quot;properties&quot;: {&quot;Name&quot;: &quot;31TDJ&quot;, &quot;centroid_x&quot;: 2.4392533795509697, &quot;centroid_y&quot;: 43.75704981335113}, &quot;type&quot;: &quot;Feature&quot;}, {&quot;bbox&quot;: [1.7274503420000542, 44.15851530900005, 3.1241663970000673, 45.15376975500004], &quot;geometry&quot;: {&quot;coordinates&quot;: [[[1.7274503420000542, 45.146747187000074, 0.0], [3.1241663970000673, 45.15376975500004, 0.0], [3.122074491000035, 44.16530127400006, 0.0], [1.7488829470000269, 44.15851530900005, 0.0], [1.7274503420000542, 45.146747187000074, 0.0]]], &quot;type&quot;: &quot;Polygon&quot;}, &quot;id&quot;: &quot;29435&quot;, &quot;properties&quot;: {&quot;Name&quot;: &quot;31TDK&quot;, &quot;centroid_x&quot;: 2.4306437890882706, &quot;centroid_y&quot;: 44.65748251113419}, &quot;type&quot;: &quot;Feature&quot;}, {&quot;bbox&quot;: [1.706951085000071, 45.05819167000004, 3.126167237000061, 46.05350473500005], &quot;geometry&quot;: {&quot;coordinates&quot;: [[[1.706951085000071, 46.04625960800007, 0.0], [3.126167237000061, 46.05350473500005, 0.0], [3.1239744980000523, 45.06519270600006, 0.0], [1.729416423000032, 45.05819167000004, 0.0], [1.706951085000071, 46.04625960800007, 0.0]]], &quot;type&quot;: &quot;Polygon&quot;}, &quot;id&quot;: &quot;29436&quot;, &quot;properties&quot;: {&quot;Name&quot;: &quot;31TDL&quot;, &quot;centroid_x&quot;: 2.4216266522978276, &quot;centroid_y&quot;: 45.557230631417625}, &quot;type&quot;: &quot;Feature&quot;}, {&quot;bbox&quot;: [2.9997567740000477, 41.45624189700004, 4.3348915670000565, 42.45269119900007], &quot;geometry&quot;: {&quot;coordinates&quot;: [[[2.9997567740000477, 42.45269119900007, 0.0], [4.3348915670000565, 42.44491772400005, 0.0], [4.314418119000038, 41.45624189700004, 0.0], [2.9997605060000296, 41.46375188700006, 0.0], [2.9997567740000477, 42.45269119900007, 0.0]]], &quot;type&quot;: &quot;Polygon&quot;}, &quot;id&quot;: &quot;29441&quot;, &quot;properties&quot;: {&quot;Name&quot;: &quot;31TEG&quot;, &quot;centroid_x&quot;: 3.6622036932246957, &quot;centroid_y&quot;: 41.95567442224555}, &quot;type&quot;: &quot;Feature&quot;}, {&quot;bbox&quot;: [2.999753209000062, 42.35632239000006, 4.354447330000028, 43.35285539200004], &quot;geometry&quot;: {&quot;coordinates&quot;: [[[2.999753209000062, 43.35285539200004, 0.0], [4.354447330000028, 43.34483481600006, 0.0], [4.333014609000031, 42.35632239000006, 0.0], [2.999757116000069, 42.36407192000007, 0.0], [2.999753209000062, 43.35285539200004, 0.0]]], &quot;type&quot;: &quot;Polygon&quot;}, &quot;id&quot;: &quot;29442&quot;, &quot;properties&quot;: {&quot;Name&quot;: &quot;31TEH&quot;, &quot;centroid_x&quot;: 3.6717408517786416, &quot;centroid_y&quot;: 42.85583541356948}, &quot;type&quot;: &quot;Feature&quot;}, {&quot;bbox&quot;: [2.9997494740000548, 43.25679429400003, 4.374940059000039, 44.253417581000065], &quot;geometry&quot;: {&quot;coordinates&quot;: [[[2.9997494740000548, 44.253417581000065, 0.0], [4.374940059000039, 44.245142411000074, 0.0], [4.352494032000038, 43.25679429400003, 0.0], [2.9997535650000486, 43.264790377000054, 0.0], [2.9997494740000548, 44.253417581000065, 0.0]]], &quot;type&quot;: &quot;Polygon&quot;}, &quot;id&quot;: &quot;29443&quot;, &quot;properties&quot;: {&quot;Name&quot;: &quot;31TEJ&quot;, &quot;centroid_x&quot;: 3.681732981879944, &quot;centroid_y&quot;: 43.75639219484313}, &quot;type&quot;: &quot;Feature&quot;}, {&quot;bbox&quot;: [2.999745560000065, 44.15711655700005, 4.396411173000047, 45.15383725000004], &quot;geometry&quot;: {&quot;coordinates&quot;: [[[2.999745560000065, 45.15383725000004, 0.0], [4.396411173000047, 45.14529967300007, 0.0], [4.372894000000031, 44.15711655700005, 0.0], [2.9997498470000323, 44.16536649500006, 0.0], [2.999745560000065, 45.15383725000004, 0.0]]], &quot;type&quot;: &quot;Polygon&quot;}, &quot;id&quot;: &quot;29444&quot;, &quot;properties&quot;: {&quot;Name&quot;: &quot;31TEK&quot;, &quot;centroid_x&quot;: 3.692199845871963, &quot;centroid_y&quot;: 44.65680402510273}, &quot;type&quot;: &quot;Feature&quot;}, {&quot;bbox&quot;: [2.9997414600000525, 45.056748593000066, 4.4189041440000665, 46.053574369000046], &quot;geometry&quot;: {&quot;coordinates&quot;: [[[2.9997414600000525, 46.053574369000046, 0.0], [4.4189041440000665, 46.044766226000036, 0.0], [4.394253871000046, 45.056748593000066, 0.0], [2.9997459540000477, 45.06525999400003, 0.0], [2.9997414600000525, 46.053574369000046, 0.0]]], &quot;type&quot;: &quot;Polygon&quot;}, &quot;id&quot;: &quot;29445&quot;, &quot;properties&quot;: {&quot;Name&quot;: &quot;31TEL&quot;, &quot;centroid_x&quot;: 3.7031621560059316, &quot;centroid_y&quot;: 45.55653064002254}, &quot;type&quot;: &quot;Feature&quot;}, {&quot;bbox&quot;: [4.197345957000039, 41.43633638000006, 5.5502129330000685, 42.446240862000025], &quot;geometry&quot;: {&quot;coordinates&quot;: [[[4.215997023000057, 42.446240862000025, 0.0], [5.5502129330000685, 42.42431413700007, 0.0], [5.511136547000035, 41.43633638000006, 0.0], [4.197345957000039, 41.45752019100007, 0.0], [4.215997023000057, 42.446240862000025, 0.0]]], &quot;type&quot;: &quot;Polygon&quot;}, &quot;id&quot;: &quot;29450&quot;, &quot;properties&quot;: {&quot;Name&quot;: &quot;31TFG&quot;, &quot;centroid_x&quot;: 4.868664452421015, &quot;centroid_y&quot;: 41.942374983594775}, &quot;type&quot;: &quot;Feature&quot;}, {&quot;bbox&quot;: [4.214287134000074, 42.335782239000025, 5.587536184000044, 43.34620000900003], &quot;geometry&quot;: {&quot;coordinates&quot;: [[[4.233812138000076, 43.34620000900003, 0.0], [5.587536184000044, 43.323576596000066, 0.0], [5.546630572000026, 42.335782239000025, 0.0], [4.214287134000074, 42.35764145300004, 0.0], [4.233812138000076, 43.34620000900003, 0.0]]], &quot;type&quot;: &quot;Polygon&quot;}, &quot;id&quot;: &quot;29451&quot;, &quot;properties&quot;: {&quot;Name&quot;: &quot;31TFH&quot;, &quot;centroid_x&quot;: 4.895560188506787, &quot;centroid_y&quot;: 42.842112562392686}, &quot;type&quot;: &quot;Feature&quot;}, {&quot;bbox&quot;: [4.2320327000000475, 43.235600960000056, 5.626645974000041, 44.24655093400003], &quot;geometry&quot;: {&quot;coordinates&quot;: [[[4.252480872000035, 44.24655093400003, 0.0], [5.626645974000041, 44.22320974000007, 0.0], [5.583808280000028, 43.235600960000056, 0.0], [4.2320327000000475, 43.258155319000025, 0.0], [4.252480872000035, 44.24655093400003, 0.0]]], &quot;type&quot;: &quot;Polygon&quot;}, &quot;id&quot;: &quot;29452&quot;, &quot;properties&quot;: {&quot;Name&quot;: &quot;31TFJ&quot;, &quot;centroid_x&quot;: 4.923738204922912, &quot;centroid_y&quot;: 43.74223331685825}, &quot;type&quot;: &quot;Feature&quot;}, {&quot;bbox&quot;: [4.250616925000031, 44.13525072500005, 5.667621077000035, 45.146752855000045], &quot;geometry&quot;: {&quot;coordinates&quot;: [[[4.272040968000056, 45.146752855000045, 0.0], [5.667621077000035, 45.12267188000004, 0.0], [5.622741209000026, 44.13525072500005, 0.0], [4.250616925000031, 44.158520786000054, 0.0], [4.272040968000056, 45.146752855000045, 0.0]]], &quot;type&quot;: &quot;Polygon&quot;}, &quot;id&quot;: &quot;29453&quot;, &quot;properties&quot;: {&quot;Name&quot;: &quot;31TFK&quot;, &quot;centroid_x&quot;: 4.953254105659395, &quot;centroid_y&quot;: 44.64219597358757}, &quot;type&quot;: &quot;Feature&quot;}, {&quot;bbox&quot;: [4.270075672000075, 45.03419014000008, 5.710544148000054, 46.04626545600007], &quot;geometry&quot;: {&quot;coordinates&quot;: [[[4.292532036000068, 46.04626545600007, 0.0], [5.710544148000054, 46.02142174200003, 0.0], [5.663504208000063, 45.03419014000008, 0.0], [4.270075672000075, 45.05819732000003, 0.0], [4.292532036000068, 46.04626545600007, 0.0]]], &quot;type&quot;: &quot;Polygon&quot;}, &quot;id&quot;: &quot;29454&quot;, &quot;properties&quot;: {&quot;Name&quot;: &quot;31TFL&quot;, &quot;centroid_x&quot;: 4.984166160321852, &quot;centroid_y&quot;: 45.54145970536116}, &quot;type&quot;: &quot;Feature&quot;}, {&quot;bbox&quot;: [5.39346077700003, 41.40403474500005, 6.7631364330000565, 42.42691199500007], &quot;geometry&quot;: {&quot;coordinates&quot;: [[[5.430710453000074, 42.42691199500007, 0.0], [6.7631364330000565, 42.39088066200003, 0.0], [6.705562298000075, 41.40403474500005, 0.0], [5.39346077700003, 41.43884624400005, 0.0], [5.430710453000074, 42.42691199500007, 0.0]]], &quot;type&quot;: &quot;Polygon&quot;}, &quot;id&quot;: &quot;29459&quot;, &quot;properties&quot;: {&quot;Name&quot;: &quot;31TGG&quot;, &quot;centroid_x&quot;: 6.073203050554028, &quot;centroid_y&quot;: 41.916437288325426}, &quot;type&quot;: &quot;Feature&quot;}, {&quot;bbox&quot;: [5.427295549000064, 42.30245161500005, 6.818123704000072, 43.32625697100008], &quot;geometry&quot;: {&quot;coordinates&quot;: [[[5.466289141000061, 43.32625697100008, 0.0], [6.818123704000072, 43.28908179800004, 0.0], [6.757858445000068, 42.30245161500005, 0.0], [5.427295549000064, 42.33837210100006, 0.0], [5.466289141000061, 43.32625697100008, 0.0]]], &quot;type&quot;: &quot;Polygon&quot;}, &quot;id&quot;: &quot;29460&quot;, &quot;properties&quot;: {&quot;Name&quot;: &quot;31TGH&quot;, &quot;centroid_x&quot;: 6.117381093410185, &quot;centroid_y&quot;: 42.81534962057586}, &quot;type&quot;: &quot;Feature&quot;}, {&quot;bbox&quot;: [5.46273547800007, 43.201211355000055, 6.8757389460000695, 44.22597512700003], &quot;geometry&quot;: {&quot;coordinates&quot;: [[[5.503571067000053, 44.22597512700003, 0.0], [6.8757389460000695, 44.187621583000066, 0.0], [6.812631660000022, 43.201211355000055, 0.0], [5.46273547800007, 43.23827315600005, 0.0], [5.503571067000053, 44.22597512700003, 0.0]]], &quot;type&quot;: &quot;Polygon&quot;}, &quot;id&quot;: &quot;29461&quot;, &quot;properties&quot;: {&quot;Name&quot;: &quot;31TGJ&quot;, &quot;centroid_x&quot;: 6.163662856885509, &quot;centroid_y&quot;: 43.714620595417834}, &quot;type&quot;: &quot;Feature&quot;}, {&quot;bbox&quot;: [5.499848789000055, 44.09977091700006, 6.93609755600005, 45.125524883000026], &quot;geometry&quot;: {&quot;coordinates&quot;: [[[5.542631357000062, 45.125524883000026, 0.0], [6.93609755600005, 45.08595696000003, 0.0], [6.869986766000068, 44.09977091700006, 0.0], [5.499848789000055, 44.13800768700003, 0.0], [5.542631357000062, 45.125524883000026, 0.0]]], &quot;type&quot;: &quot;Polygon&quot;}, &quot;id&quot;: &quot;29462&quot;, &quot;properties&quot;: {&quot;Name&quot;: &quot;31TGK&quot;, &quot;centroid_x&quot;: 6.21213927025482, &quot;centroid_y&quot;: 44.613707908448525}, &quot;type&quot;: &quot;Feature&quot;}, {&quot;bbox&quot;: [5.538706863000073, 44.997587612000075, 6.999320560000058, 46.02436507500005], &quot;geometry&quot;: {&quot;coordinates&quot;: [[[5.583548840000049, 46.02436507500005, 0.0], [6.999320560000058, 45.98354520600003, 0.0], [6.930033391000052, 44.997587612000075, 0.0], [5.538706863000073, 45.037034403000064, 0.0], [5.583548840000049, 46.02436507500005, 0.0]]], &quot;type&quot;: &quot;Polygon&quot;}, &quot;id&quot;: &quot;29463&quot;, &quot;properties&quot;: {&quot;Name&quot;: &quot;31TGL&quot;, &quot;centroid_x&quot;: 6.262905590125564, &quot;centroid_y&quot;: 45.51206964226238}, &quot;type&quot;: &quot;Feature&quot;}, {&quot;bbox&quot;: [5.354954234000047, 41.40772618900007, 6.723033433000069, 42.429360872000075], &quot;geometry&quot;: {&quot;coordinates&quot;: [[[5.354954234000047, 42.39470139300005, 0.0], [6.68759275900004, 42.429360872000075, 0.0], [6.723033433000069, 41.44121216600007, 0.0], [5.4107313320000685, 41.40772618900007, 0.0], [5.354954234000047, 42.39470139300005, 0.0]]], &quot;type&quot;: &quot;Polygon&quot;}, &quot;id&quot;: &quot;30370&quot;, &quot;properties&quot;: {&quot;Name&quot;: &quot;32TKM&quot;, &quot;centroid_x&quot;: 6.044091806212787, &quot;centroid_y&quot;: 41.91951941288591}, &quot;type&quot;: &quot;Feature&quot;}, {&quot;bbox&quot;: [6.568803733000038, 41.438836285000036, 7.919972840000071, 42.447443029000056], &quot;geometry&quot;: {&quot;coordinates&quot;: [[[6.568803733000038, 42.426901687000054, 0.0], [7.903148316000056, 42.447443029000056, 0.0], [7.919972840000071, 41.45868161300007, 0.0], [6.60606083600004, 41.438836285000036, 0.0], [6.568803733000038, 42.426901687000054, 0.0]]], &quot;type&quot;: &quot;Polygon&quot;}, &quot;id&quot;: &quot;30373&quot;, &quot;properties&quot;: {&quot;Name&quot;: &quot;32TLM&quot;, &quot;centroid_x&quot;: 7.249504538034946, &quot;centroid_y&quot;: 41.94423797610305}, &quot;type&quot;: &quot;Feature&quot;}, {&quot;bbox&quot;: [6.53321795100004, 42.33836182500005, 7.904690753000068, 43.34744038800005], &quot;geometry&quot;: {&quot;coordinates&quot;: [[[6.53321795100004, 43.326246335000064, 0.0], [7.8870778350000705, 43.34744038800005, 0.0], [7.904690753000068, 42.35883991700007, 0.0], [6.572219318000066, 42.33836182500005, 0.0], [6.53321795100004, 43.326246335000064, 0.0]]], &quot;type&quot;: &quot;Polygon&quot;}, &quot;id&quot;: &quot;30374&quot;, &quot;properties&quot;: {&quot;Name&quot;: &quot;32TLN&quot;, &quot;centroid_x&quot;: 7.224307374078507, &quot;centroid_y&quot;: 42.84403485569881}, &quot;type&quot;: &quot;Feature&quot;}, {&quot;bbox&quot;: [6.495928593000031, 43.23826255300003, 7.888683014000037, 44.247830683000075], &quot;geometry&quot;: {&quot;coordinates&quot;: [[[6.495928593000031, 44.22596415400005, 0.0], [7.870237287000066, 44.247830683000075, 0.0], [7.888683014000037, 43.25939191000003, 0.0], [6.5367723230000365, 43.23826255300003, 0.0], [6.495928593000031, 44.22596415400005, 0.0]]], &quot;type&quot;: &quot;Polygon&quot;}, &quot;id&quot;: &quot;30375&quot;, &quot;properties&quot;: {&quot;Name&quot;: &quot;32TLP&quot;, &quot;centroid_x&quot;: 7.197908807940972, &quot;centroid_y&quot;: 43.744216676516054}, &quot;type&quot;: &quot;Feature&quot;}, {&quot;bbox&quot;: [6.456860517000052, 44.137996748000035, 7.871918704000052, 45.148073182000076], &quot;geometry&quot;: {&quot;coordinates&quot;: [[[6.456860517000052, 45.12551356100005, 0.0], [7.852592618000074, 45.148073182000076, 0.0], [7.871918704000052, 44.15979663300004, 0.0], [6.499651613000026, 44.137996748000035, 0.0], [6.456860517000052, 45.12551356100005, 0.0]]], &quot;type&quot;: &quot;Polygon&quot;}, &quot;id&quot;: &quot;30376&quot;, &quot;properties&quot;: {&quot;Name&quot;: &quot;32TLQ&quot;, &quot;centroid_x&quot;: 7.170256730351857, &quot;centroid_y&quot;: 44.644242239541335}, &quot;type&quot;: &quot;Feature&quot;}, {&quot;bbox&quot;: [6.415934880000066, 45.03702311600006, 7.854365464000068, 46.04762762200005], &quot;geometry&quot;: {&quot;coordinates&quot;: [[[6.415934880000066, 46.02435339600004, 0.0], [7.834108090000029, 46.04762762200005, 0.0], [7.854365464000068, 45.05951360000006, 0.0], [6.4607857930000705, 45.03702311600006, 0.0], [6.415934880000066, 46.02435339600004, 0.0]]], &quot;type&quot;: &quot;Polygon&quot;}, &quot;id&quot;: &quot;30377&quot;, &quot;properties&quot;: {&quot;Name&quot;: &quot;32TLR&quot;, &quot;centroid_x&quot;: 7.141296533425869, &quot;centroid_y&quot;: 45.54357079663658}, &quot;type&quot;: &quot;Feature&quot;}, {&quot;bbox&quot;: [7.783516685000052, 41.45751520600004, 9.11869417400004, 42.45262974500008], &quot;geometry&quot;: {&quot;coordinates&quot;: [[[7.783516685000052, 42.44623570200008, 0.0], [9.11869417400004, 42.45262974500008, 0.0], [9.116873103000046, 41.46369251600004, 0.0], [7.802175205000026, 41.45751520600004, 0.0], [7.783516685000052, 42.44623570200008, 0.0]]], &quot;type&quot;: &quot;Polygon&quot;}, &quot;id&quot;: &quot;30382&quot;, &quot;properties&quot;: {&quot;Name&quot;: &quot;32TMM&quot;, &quot;centroid_x&quot;: 8.455317298260216, &quot;centroid_y&quot;: 41.95629211468772}, &quot;type&quot;: &quot;Feature&quot;}, {&quot;bbox&quot;: [7.765694450000069, 42.35763630800005, 9.120433646000038, 43.35279198500007], &quot;geometry&quot;: {&quot;coordinates&quot;: [[[7.765694450000069, 43.34619468500006, 0.0], [9.120433646000038, 43.35279198500007, 0.0], [9.118527221000022, 42.36401065600006, 0.0], [7.785227257000031, 42.35763630800005, 0.0], [7.765694450000069, 43.34619468500006, 0.0]]], &quot;type&quot;: &quot;Polygon&quot;}, &quot;id&quot;: &quot;30383&quot;, &quot;properties&quot;: {&quot;Name&quot;: &quot;32TMN&quot;, &quot;centroid_x&quot;: 8.447472463748646, &quot;centroid_y&quot;: 42.85647277606667}, &quot;type&quot;: &quot;Feature&quot;}, {&quot;bbox&quot;: [7.747018254000068, 43.258150010000065, 9.12225649100003, 44.25335216000008], &quot;geometry&quot;: {&quot;coordinates&quot;: [[[7.747018254000068, 44.24654544100008, 0.0], [9.12225649100003, 44.25335216000008, 0.0], [9.120259900000065, 43.26472716300003, 0.0], [7.767474599000025, 43.258150010000065, 0.0], [7.747018254000068, 44.24654544100008, 0.0]]], &quot;type&quot;: &quot;Polygon&quot;}, &quot;id&quot;: &quot;30384&quot;, &quot;properties&quot;: {&quot;Name&quot;: &quot;32TMP&quot;, &quot;centroid_x&quot;: 8.439253379550971, &quot;centroid_y&quot;: 43.75704981335113}, &quot;type&quot;: &quot;Feature&quot;}, {&quot;bbox&quot;: [7.727450342000054, 44.15851530900005, 9.124166397000067, 45.15376975500004], &quot;geometry&quot;: {&quot;coordinates&quot;: [[[7.727450342000054, 45.146747187000074, 0.0], [9.124166397000067, 45.15376975500004, 0.0], [9.122074491000035, 44.16530127400006, 0.0], [7.748882947000027, 44.15851530900005, 0.0], [7.727450342000054, 45.146747187000074, 0.0]]], &quot;type&quot;: &quot;Polygon&quot;}, &quot;id&quot;: &quot;30385&quot;, &quot;properties&quot;: {&quot;Name&quot;: &quot;32TMQ&quot;, &quot;centroid_x&quot;: 8.43064378908827, &quot;centroid_y&quot;: 44.65748251113419}, &quot;type&quot;: &quot;Feature&quot;}, {&quot;bbox&quot;: [7.706951085000071, 45.05819167000004, 9.126167237000061, 46.05350473500005], &quot;geometry&quot;: {&quot;coordinates&quot;: [[[7.706951085000071, 46.04625960800007, 0.0], [9.126167237000061, 46.05350473500005, 0.0], [9.123974498000052, 45.06519270600006, 0.0], [7.729416423000032, 45.05819167000004, 0.0], [7.706951085000071, 46.04625960800007, 0.0]]], &quot;type&quot;: &quot;Polygon&quot;}, &quot;id&quot;: &quot;30386&quot;, &quot;properties&quot;: {&quot;Name&quot;: &quot;32TMR&quot;, &quot;centroid_x&quot;: 8.421626652297828, &quot;centroid_y&quot;: 45.557230631417625}, &quot;type&quot;: &quot;Feature&quot;}, {&quot;bbox&quot;: [8.999756774000048, 41.45624189700004, 10.334891567000057, 42.45269119900007], &quot;geometry&quot;: {&quot;coordinates&quot;: [[[8.999756774000048, 42.45269119900007, 0.0], [10.334891567000057, 42.44491772400005, 0.0], [10.314418119000038, 41.45624189700004, 0.0], [8.99976050600003, 41.46375188700006, 0.0], [8.999756774000048, 42.45269119900007, 0.0]]], &quot;type&quot;: &quot;Polygon&quot;}, &quot;id&quot;: &quot;30391&quot;, &quot;properties&quot;: {&quot;Name&quot;: &quot;32TNM&quot;, &quot;centroid_x&quot;: 9.662203693224697, &quot;centroid_y&quot;: 41.95567442224555}, &quot;type&quot;: &quot;Feature&quot;}, {&quot;bbox&quot;: [8.999753209000062, 42.35632239000006, 10.354447330000028, 43.35285539200004], &quot;geometry&quot;: {&quot;coordinates&quot;: [[[8.999753209000062, 43.35285539200004, 0.0], [10.354447330000028, 43.34483481600006, 0.0], [10.333014609000031, 42.35632239000006, 0.0], [8.999757116000069, 42.36407192000007, 0.0], [8.999753209000062, 43.35285539200004, 0.0]]], &quot;type&quot;: &quot;Polygon&quot;}, &quot;id&quot;: &quot;30392&quot;, &quot;properties&quot;: {&quot;Name&quot;: &quot;32TNN&quot;, &quot;centroid_x&quot;: 9.671740851778642, &quot;centroid_y&quot;: 42.85583541356948}, &quot;type&quot;: &quot;Feature&quot;}, {&quot;bbox&quot;: [8.999749474000055, 43.25679429400003, 10.37494005900004, 44.253417581000065], &quot;geometry&quot;: {&quot;coordinates&quot;: [[[8.999749474000055, 44.253417581000065, 0.0], [10.37494005900004, 44.245142411000074, 0.0], [10.352494032000038, 43.25679429400003, 0.0], [8.999753565000049, 43.264790377000054, 0.0], [8.999749474000055, 44.253417581000065, 0.0]]], &quot;type&quot;: &quot;Polygon&quot;}, &quot;id&quot;: &quot;30393&quot;, &quot;properties&quot;: {&quot;Name&quot;: &quot;32TNP&quot;, &quot;centroid_x&quot;: 9.681732981879945, &quot;centroid_y&quot;: 43.75639219484313}, &quot;type&quot;: &quot;Feature&quot;}, {&quot;bbox&quot;: [8.999745560000065, 44.15711655700005, 10.396411173000047, 45.15383725000004], &quot;geometry&quot;: {&quot;coordinates&quot;: [[[8.999745560000065, 45.15383725000004, 0.0], [10.396411173000047, 45.14529967300007, 0.0], [10.37289400000003, 44.15711655700005, 0.0], [8.999749847000032, 44.16536649500006, 0.0], [8.999745560000065, 45.15383725000004, 0.0]]], &quot;type&quot;: &quot;Polygon&quot;}, &quot;id&quot;: &quot;30394&quot;, &quot;properties&quot;: {&quot;Name&quot;: &quot;32TNQ&quot;, &quot;centroid_x&quot;: 9.692199845871963, &quot;centroid_y&quot;: 44.65680402510273}, &quot;type&quot;: &quot;Feature&quot;}, {&quot;bbox&quot;: [8.999741460000052, 45.056748593000066, 10.418904144000066, 46.053574369000046], &quot;geometry&quot;: {&quot;coordinates&quot;: [[[8.999741460000052, 46.053574369000046, 0.0], [10.418904144000066, 46.044766226000036, 0.0], [10.394253871000046, 45.056748593000066, 0.0], [8.999745954000048, 45.06525999400003, 0.0], [8.999741460000052, 46.053574369000046, 0.0]]], &quot;type&quot;: &quot;Polygon&quot;}, &quot;id&quot;: &quot;30395&quot;, &quot;properties&quot;: {&quot;Name&quot;: &quot;32TNR&quot;, &quot;centroid_x&quot;: 9.70316215600593, &quot;centroid_y&quot;: 45.55653064002254}, &quot;type&quot;: &quot;Feature&quot;}], &quot;type&quot;: &quot;FeatureCollection&quot;});\n",
       "\n",
       "        \n",
       "&lt;/script&gt;\n",
       "&lt;/html&gt;\" style=\"position:absolute;width:100%;height:100%;left:0;top:0;border:none !important;\" allowfullscreen webkitallowfullscreen mozallowfullscreen></iframe></div></div>"
      ],
      "text/plain": [
       "<folium.folium.Map at 0x7f55a1b973d0>"
      ]
     },
     "metadata": {},
     "output_type": "display_data"
    }
   ],
   "source": [
    "_map_ = folium.Map(location=[44, 5], zoom_start=6, tiles='Stamen Terrain')\n",
    "style1 = {'fillColor': 'none', 'color': '#dd3497'}\n",
    "folium.GeoJson(gdf, style_function=lambda x:style1).add_to(_map_)\n",
    "display(_map_)"
   ]
  },
  {
   "cell_type": "raw",
   "id": "477c3687-e7aa-49e9-9705-dcb735fe8c4b",
   "metadata": {},
   "source": []
  },
  {
   "cell_type": "code",
   "execution_count": 12,
   "id": "4c7a522d-9d04-463d-94c2-2d892384db06",
   "metadata": {},
   "outputs": [],
   "source": [
    "boundary = gpd.GeoSeries(unary_union(gdf.geometry.to_list()))\n",
    "boundary.crs = 'epsg:4326'"
   ]
  },
  {
   "cell_type": "code",
   "execution_count": 13,
   "id": "7c32095a-b572-4667-81e3-f78c66c7066d",
   "metadata": {
    "tags": []
   },
   "outputs": [
    {
     "data": {
      "text/html": [
       "<div style=\"width:100%;\"><div style=\"position:relative;width:100%;height:0;padding-bottom:60%;\"><span style=\"color:#565656\">Make this Notebook Trusted to load map: File -> Trust Notebook</span><iframe srcdoc=\"&lt;!DOCTYPE html&gt;\n",
       "&lt;html&gt;\n",
       "&lt;head&gt;\n",
       "    \n",
       "    &lt;meta http-equiv=&quot;content-type&quot; content=&quot;text/html; charset=UTF-8&quot; /&gt;\n",
       "    \n",
       "        &lt;script&gt;\n",
       "            L_NO_TOUCH = false;\n",
       "            L_DISABLE_3D = false;\n",
       "        &lt;/script&gt;\n",
       "    \n",
       "    &lt;style&gt;html, body {width: 100%;height: 100%;margin: 0;padding: 0;}&lt;/style&gt;\n",
       "    &lt;style&gt;#map {position:absolute;top:0;bottom:0;right:0;left:0;}&lt;/style&gt;\n",
       "    &lt;script src=&quot;https://cdn.jsdelivr.net/npm/leaflet@1.6.0/dist/leaflet.js&quot;&gt;&lt;/script&gt;\n",
       "    &lt;script src=&quot;https://code.jquery.com/jquery-1.12.4.min.js&quot;&gt;&lt;/script&gt;\n",
       "    &lt;script src=&quot;https://maxcdn.bootstrapcdn.com/bootstrap/3.2.0/js/bootstrap.min.js&quot;&gt;&lt;/script&gt;\n",
       "    &lt;script src=&quot;https://cdnjs.cloudflare.com/ajax/libs/Leaflet.awesome-markers/2.0.2/leaflet.awesome-markers.js&quot;&gt;&lt;/script&gt;\n",
       "    &lt;link rel=&quot;stylesheet&quot; href=&quot;https://cdn.jsdelivr.net/npm/leaflet@1.6.0/dist/leaflet.css&quot;/&gt;\n",
       "    &lt;link rel=&quot;stylesheet&quot; href=&quot;https://maxcdn.bootstrapcdn.com/bootstrap/3.2.0/css/bootstrap.min.css&quot;/&gt;\n",
       "    &lt;link rel=&quot;stylesheet&quot; href=&quot;https://maxcdn.bootstrapcdn.com/bootstrap/3.2.0/css/bootstrap-theme.min.css&quot;/&gt;\n",
       "    &lt;link rel=&quot;stylesheet&quot; href=&quot;https://maxcdn.bootstrapcdn.com/font-awesome/4.6.3/css/font-awesome.min.css&quot;/&gt;\n",
       "    &lt;link rel=&quot;stylesheet&quot; href=&quot;https://cdnjs.cloudflare.com/ajax/libs/Leaflet.awesome-markers/2.0.2/leaflet.awesome-markers.css&quot;/&gt;\n",
       "    &lt;link rel=&quot;stylesheet&quot; href=&quot;https://cdn.jsdelivr.net/gh/python-visualization/folium/folium/templates/leaflet.awesome.rotate.min.css&quot;/&gt;\n",
       "    \n",
       "            &lt;meta name=&quot;viewport&quot; content=&quot;width=device-width,\n",
       "                initial-scale=1.0, maximum-scale=1.0, user-scalable=no&quot; /&gt;\n",
       "            &lt;style&gt;\n",
       "                #map_ae41231996a5ede322289585e4329789 {\n",
       "                    position: relative;\n",
       "                    width: 100.0%;\n",
       "                    height: 100.0%;\n",
       "                    left: 0.0%;\n",
       "                    top: 0.0%;\n",
       "                }\n",
       "            &lt;/style&gt;\n",
       "        \n",
       "&lt;/head&gt;\n",
       "&lt;body&gt;\n",
       "    \n",
       "    \n",
       "            &lt;div class=&quot;folium-map&quot; id=&quot;map_ae41231996a5ede322289585e4329789&quot; &gt;&lt;/div&gt;\n",
       "        \n",
       "&lt;/body&gt;\n",
       "&lt;script&gt;\n",
       "    \n",
       "    \n",
       "            var map_ae41231996a5ede322289585e4329789 = L.map(\n",
       "                &quot;map_ae41231996a5ede322289585e4329789&quot;,\n",
       "                {\n",
       "                    center: [44.0, 5.0],\n",
       "                    crs: L.CRS.EPSG3857,\n",
       "                    zoom: 6,\n",
       "                    zoomControl: true,\n",
       "                    preferCanvas: false,\n",
       "                }\n",
       "            );\n",
       "\n",
       "            \n",
       "\n",
       "        \n",
       "    \n",
       "            var tile_layer_b908fb0fd20989c423cd3556c5a32596 = L.tileLayer(\n",
       "                &quot;https://stamen-tiles-{s}.a.ssl.fastly.net/terrain/{z}/{x}/{y}.jpg&quot;,\n",
       "                {&quot;attribution&quot;: &quot;Map tiles by \\u003ca href=\\&quot;http://stamen.com\\&quot;\\u003eStamen Design\\u003c/a\\u003e, under \\u003ca href=\\&quot;http://creativecommons.org/licenses/by/3.0\\&quot;\\u003eCC BY 3.0\\u003c/a\\u003e. Data by \\u0026copy; \\u003ca href=\\&quot;http://openstreetmap.org\\&quot;\\u003eOpenStreetMap\\u003c/a\\u003e, under \\u003ca href=\\&quot;http://creativecommons.org/licenses/by-sa/3.0\\&quot;\\u003eCC BY SA\\u003c/a\\u003e.&quot;, &quot;detectRetina&quot;: false, &quot;maxNativeZoom&quot;: 18, &quot;maxZoom&quot;: 18, &quot;minZoom&quot;: 0, &quot;noWrap&quot;: false, &quot;opacity&quot;: 1, &quot;subdomains&quot;: &quot;abc&quot;, &quot;tms&quot;: false}\n",
       "            ).addTo(map_ae41231996a5ede322289585e4329789);\n",
       "        \n",
       "    \n",
       "        function geo_json_fe3693eabc4f81e0fee1188a85e1021f_styler(feature) {\n",
       "            switch(feature.id) {\n",
       "                default:\n",
       "                    return {&quot;color&quot;: &quot;#dd3497&quot;, &quot;fillColor&quot;: &quot;none&quot;};\n",
       "            }\n",
       "        }\n",
       "\n",
       "        function geo_json_fe3693eabc4f81e0fee1188a85e1021f_onEachFeature(feature, layer) {\n",
       "            layer.on({\n",
       "            });\n",
       "        };\n",
       "        var geo_json_fe3693eabc4f81e0fee1188a85e1021f = L.geoJson(null, {\n",
       "                onEachFeature: geo_json_fe3693eabc4f81e0fee1188a85e1021f_onEachFeature,\n",
       "            \n",
       "                style: geo_json_fe3693eabc4f81e0fee1188a85e1021f_styler,\n",
       "        });\n",
       "\n",
       "        function geo_json_fe3693eabc4f81e0fee1188a85e1021f_add (data) {\n",
       "            geo_json_fe3693eabc4f81e0fee1188a85e1021f\n",
       "                .addData(data)\n",
       "                .addTo(map_ae41231996a5ede322289585e4329789);\n",
       "        }\n",
       "            geo_json_fe3693eabc4f81e0fee1188a85e1021f_add({&quot;bbox&quot;: [-1.8026540429999613, 41.40403474500005, 10.418904144000066, 46.053574369000046], &quot;features&quot;: [{&quot;bbox&quot;: [-1.8026540429999613, 41.40403474500005, 10.418904144000066, 46.053574369000046], &quot;geometry&quot;: {&quot;coordinates&quot;: [[[-0.590978570877672, 41.43798290371078, 0.0], [-1.8026540429999613, 41.45752019100007, 0.0], [-1.7856743137791626, 42.35764082048952, 0.0], [-1.7857128659999262, 42.35764145300004, 0.0], [-1.7848542929467004, 42.4011113410327, 0.0], [-1.7840029769999433, 42.446240862000025, 0.0], [-1.7839629535015749, 42.44624020424723, 0.0], [-1.767926844575452, 43.25815464400176, 0.0], [-1.7679672999999525, 43.258155319000025, 0.0], [-1.7670740310254542, 43.301332926143104, 0.0], [-1.7661878619999243, 43.34620000900003, 0.0], [-1.7661458242953259, 43.34619930646663, 0.0], [-1.7493403323867585, 44.158520061121685, 0.0], [-1.7493830749999688, 44.158520786000054, 0.0], [-1.748447627793, 44.20167038800478, 0.0], [-1.747519127999965, 44.24655093400003, 0.0], [-1.7474746715415366, 44.246550178874735, 0.0], [-1.7298788587617702, 45.05819653661706, 0.0], [-1.7299243279999246, 45.05819732000003, 0.0], [-1.7289382483955562, 45.101584300930526, 0.0], [-1.7279590319999443, 45.146752855000045, 0.0], [-1.7279116965691679, 45.14675203821904, 0.0], [-1.7074679639999317, 46.04626545600007, 0.0], [-0.4164837602056683, 46.02364728365428, 0.0], [-0.4164511599999514, 46.02436507500005, 0.0], [-0.3529474772252283, 46.02253412162299, 0.0], [-0.2894558519999464, 46.02142174200003, 0.0], [-0.2894900273262787, 46.02070450124326, 0.0], [0.41702599314490063, 46.000334062284324, 0.0], [0.41593488000006573, 46.02435339600004, 0.0], [1.706967422270876, 46.045541064015694, 0.0], [1.706951085000071, 46.04625960800007, 0.0], [1.7705268089862138, 46.046584163349685, 0.0], [1.8341080900000293, 46.04762762200005, 0.0], [1.8341228261479883, 46.04690882229637, 0.0], [2.9997414632514374, 46.05285932888232, 0.0], [2.9997414600000525, 46.053574369000046, 0.0], [3.062954470839528, 46.05318203255743, 0.0], [3.126167237000061, 46.05350473500005, 0.0], [3.1261656505894093, 46.05278970747961, 0.0], [4.292515790556889, 46.04555066509445, 0.0], [4.292532036000068, 46.04626545600007, 0.0], [4.35572117326568, 46.045158375996415, 0.0], [4.4189041440000665, 46.044766226000036, 0.0], [4.418886317538992, 46.044051716352385, 0.0], [5.583516239794331, 46.02364728365428, 0.0], [5.583548840000049, 46.02436507500005, 0.0], [5.647052522774759, 46.02253412162299, 0.0], [5.710544148000054, 46.02142174200003, 0.0], [5.710509972673721, 46.02070450124326, 0.0], [6.4170259931449, 46.000334062284324, 0.0], [6.415934880000066, 46.02435339600004, 0.0], [7.706967422270876, 46.045541064015694, 0.0], [7.706951085000071, 46.04625960800007, 0.0], [7.77052680898622, 46.046584163349685, 0.0], [7.834108090000029, 46.04762762200005, 0.0], [7.834122826147988, 46.04690882229637, 0.0], [8.999741463251437, 46.05285932888232, 0.0], [8.999741460000052, 46.053574369000046, 0.0], [9.062954470839507, 46.05318203255743, 0.0], [9.126167237000061, 46.05350473500005, 0.0], [9.126165650589408, 46.05278970747961, 0.0], [10.418904144000066, 46.044766226000036, 0.0], [10.395336286027378, 45.100133310614645, 0.0], [10.373920867019528, 44.20026513829609, 0.0], [10.353474582196888, 43.29997008367009, 0.0], [10.3339570587506, 42.399789726196815, 0.0], [10.314418119000038, 41.45624189700004, 0.0], [9.058317143902409, 41.46341738183253, 0.0], [7.861068826018012, 41.45779192672394, 0.0], [6.707682222155878, 41.44037117450096, 0.0], [6.705562298000075, 41.40403474500005, 0.0], [5.999837622713905, 41.422758398189075, 0.0], [5.4107313320000685, 41.40772618900007, 0.0], [5.409021429122328, 41.43798290371078, 0.0], [4.255887732283521, 41.456576252207505, 0.0], [3.0583171439024106, 41.46341738183253, 0.0], [1.8610688260180213, 41.45779192672394, 0.0], [0.7076822221558772, 41.44037117450096, 0.0], [0.7055622980000749, 41.40403474500005, 0.0], [-0.00016237728609511115, 41.422758398189075, 0.0], [-0.5892686679999315, 41.40772618900007, 0.0], [-0.590978570877672, 41.43798290371078, 0.0]]], &quot;type&quot;: &quot;Polygon&quot;}, &quot;id&quot;: &quot;0&quot;, &quot;properties&quot;: {}, &quot;type&quot;: &quot;Feature&quot;}], &quot;type&quot;: &quot;FeatureCollection&quot;});\n",
       "\n",
       "        \n",
       "&lt;/script&gt;\n",
       "&lt;/html&gt;\" style=\"position:absolute;width:100%;height:100%;left:0;top:0;border:none !important;\" allowfullscreen webkitallowfullscreen mozallowfullscreen></iframe></div></div>"
      ],
      "text/plain": [
       "<folium.folium.Map at 0x7f55a1b97910>"
      ]
     },
     "metadata": {},
     "output_type": "display_data"
    }
   ],
   "source": [
    "_map_ = folium.Map(location=[44, 5], zoom_start=6, tiles='Stamen Terrain')\n",
    "style1 = {'fillColor': 'none', 'color': '#dd3497'}\n",
    "folium.GeoJson(boundary, style_function=lambda x:style1).add_to(_map_)\n",
    "display(_map_)"
   ]
  },
  {
   "cell_type": "raw",
   "id": "d9876f09-5625-4537-a20f-2be3d23a2752",
   "metadata": {},
   "source": []
  },
  {
   "cell_type": "markdown",
   "id": "4b45afaa-14c0-4163-9dab-c8977a90e9c1",
   "metadata": {},
   "source": [
    "### Selezionare le Parcelle all'intrno dell'area di interesse con dimensione maggiore di 0.25 ettari."
   ]
  },
  {
   "cell_type": "code",
   "execution_count": 14,
   "id": "c3f7fd15-b95e-41b8-855f-dc05d4d81587",
   "metadata": {},
   "outputs": [],
   "source": [
    "from tqdm import tqdm\n",
    "from glob import glob\n",
    "import pandas as pd"
   ]
  },
  {
   "cell_type": "code",
   "execution_count": 15,
   "id": "a06059e2-c83e-4344-9173-03fd8c8f4649",
   "metadata": {},
   "outputs": [],
   "source": [
    "lower_area_bound = (50.*50.) / 10000."
   ]
  },
  {
   "cell_type": "code",
   "execution_count": null,
   "id": "4650850f-31b8-4605-a378-de7f6670cbc1",
   "metadata": {},
   "outputs": [
    {
     "name": "stderr",
     "output_type": "stream",
     "text": [
      " 56%|██████████████████████████████████████████████▏                                   | 9/16 [12:11<11:26, 98.11s/it]"
     ]
    }
   ],
   "source": [
    "parcels = pd.concat([gpd.read_file(f) for f in tqdm(glob('../../data/RPGs/*.geojson'))])"
   ]
  },
  {
   "cell_type": "code",
   "execution_count": null,
   "id": "a6a7a910-3199-4814-aeb7-c5adbf70f671",
   "metadata": {
    "tags": []
   },
   "outputs": [],
   "source": [
    "def check_intersect(x, y):\n",
    "    try:\n",
    "        return x.intersects(y)\n",
    "    except:\n",
    "        return False"
   ]
  },
  {
   "cell_type": "code",
   "execution_count": null,
   "id": "caeb1a7f-99de-4066-a5b1-a16b0bdec2ba",
   "metadata": {
    "tags": []
   },
   "outputs": [],
   "source": [
    "select1 = parcels.geometry.apply(lambda x: check_intersect(x, boundary.iloc[0]))\n",
    "select2 = parcels['SURF_PARC'] > lower_area_bound"
   ]
  },
  {
   "cell_type": "code",
   "execution_count": null,
   "id": "35b94c0b-07a1-4afb-80bd-715f3de18b3c",
   "metadata": {
    "tags": []
   },
   "outputs": [],
   "source": [
    "_map_ = folium.Map(location=[44, 5], zoom_start=6, tiles='Stamen Terrain')\n",
    "style1 = {'fillColor': 'none', 'color': '#dd3497'}\n",
    "folium.GeoJson(parcels[select1 & select2].sample(10000), \n",
    "               style_function=lambda x:style1).add_to(_map_)\n",
    "display(_map_)"
   ]
  },
  {
   "cell_type": "raw",
   "id": "7df35a96-445b-46cf-a517-0e7f70609972",
   "metadata": {},
   "source": []
  },
  {
   "cell_type": "code",
   "execution_count": null,
   "id": "b53a4649-8131-470e-b6bd-3d2fd5cc591f",
   "metadata": {},
   "outputs": [],
   "source": [
    "parcels[select1 & select2].to_file('../../data/Parcels/Parcels_South_France.geojson', driver='GeoJSON')"
   ]
  },
  {
   "cell_type": "raw",
   "id": "6a5f7721-6035-40b3-ba0b-3d680ef2c567",
   "metadata": {},
   "source": []
  },
  {
   "cell_type": "markdown",
   "id": "c67c5ee7-11f8-495a-bffe-7da8bd55505a",
   "metadata": {
    "tags": []
   },
   "source": [
    "### Associazione Parcella-Tile"
   ]
  },
  {
   "cell_type": "code",
   "execution_count": null,
   "id": "1f8fac6c-0482-4687-81d9-8b9dc48930da",
   "metadata": {},
   "outputs": [],
   "source": [
    "from pandarallel import pandarallel\n",
    "pandarallel.initialize(progress_bar=True)\n",
    "\n",
    "import matplotlib.pyplot as plt\n",
    "import geopandas as gpd\n",
    "\n",
    "from tqdm import tqdm\n",
    "tqdm.pandas()"
   ]
  },
  {
   "cell_type": "code",
   "execution_count": null,
   "id": "d39163f6-dde7-41b6-b4c1-53d3a37ab21e",
   "metadata": {},
   "outputs": [],
   "source": [
    "parcels = gpd.read_file('../../data/Parcels/Parcels_South_France.geojson')"
   ]
  },
  {
   "cell_type": "code",
   "execution_count": null,
   "id": "d0296b0b-b308-460c-b2c0-ac35844e6dbf",
   "metadata": {
    "tags": []
   },
   "outputs": [],
   "source": [
    "parcels['tile'] = parcels.geometry.parallel_apply(lambda y: (gdf[\n",
    "                    gdf.geometry.apply(lambda x: check_intersect(x, y))\n",
    "                        ].Name.tolist()))\n",
    "parcels = parcels.explode('tile')"
   ]
  },
  {
   "cell_type": "raw",
   "id": "2b99d578-d7fb-4a23-802d-e50446b38c69",
   "metadata": {},
   "source": []
  },
  {
   "cell_type": "markdown",
   "id": "9198640c-5658-4fe3-85d8-9ff9bfd12648",
   "metadata": {
    "tags": []
   },
   "source": [
    "### Analisi distribuzione Crops per Tile\n",
    "\n",
    "Ordinare i tile in modo da avere:\n",
    "\n",
    "- il maggior numero di parcelle per tile\n",
    "- il miglior bilanciamento tra le macro-classi vegetative "
   ]
  },
  {
   "cell_type": "code",
   "execution_count": null,
   "id": "282582e7-43cf-4ef6-8405-0d30041d1d46",
   "metadata": {},
   "outputs": [],
   "source": [
    "avoid_labels = {'SNE': 'Terreno Inutilizzato',\n",
    "\n",
    "                'PPH': 'Prato Permanente',\n",
    "\n",
    "                'SPH': 'Superficie pastorale',\n",
    "                'SPL': 'Superficie pastorale',\n",
    "                \n",
    "                'J6P': 'Maggese - rotazione lunga',\n",
    "                'J6S': 'Maggese - rotazione media',\n",
    "                'J5M': 'Maggese - temporaneo',\n",
    "\n",
    "                'PRL': 'Prato - rotazione lunga',\n",
    "                'PTR': 'Prato - temporaneo',\n",
    "\n",
    "                'LUZ': 'Erba Medica', \n",
    "                \n",
    "                'BOP': 'Bosco',\n",
    "                'TRE': 'Altro Trifoglio',\n",
    "                'BOR': 'Confine del campo',\n",
    "               \n",
    "               }\n",
    "\n",
    "\n",
    "valid_labels = {'VRC': 'Vitigno - Produttivo',\n",
    "                'VRN': 'Vitigno - Non  Produttivo',\n",
    "\n",
    "                'BTH': 'Grano tenero invernale',\n",
    "                'BDH': 'Grano duro invernale',\n",
    "\n",
    "                'MIS': 'Mais',\n",
    "                'TRN': 'Girasole',\n",
    "                \n",
    "                'ORH': 'Orzo Invernale', \n",
    "                'ORP': 'Orzo Primaverile',\n",
    "\n",
    "                'CZH': 'Colza Invernale',\n",
    "                \n",
    "                'MIE': 'Insilato di mais',\n",
    "                'TTH': 'Triticale Invernale',\n",
    "\n",
    "                'RGA': 'Loglio - temporaneo',\n",
    "                'MLG': 'Miscela di legumi',\n",
    "                'MCR': 'Cereali Misti', \n",
    "                \n",
    "                'VRG': 'Frutteto',\n",
    "                'TRN': 'Girasole',\n",
    " \n",
    "                'SOG': 'Sorgo',\n",
    "                'SOJ': 'Soia',\n",
    "                'NOX': 'Noce',\n",
    "                'SGH': 'Segale Invernale',\n",
    "                \n",
    "                'MLF': 'Misto di Legumi da Foraggio',\n",
    "                'BTA': 'Fascia Tampone' }"
   ]
  },
  {
   "cell_type": "raw",
   "id": "8d4711e0-5b49-4c3e-96b4-d9da77055684",
   "metadata": {},
   "source": []
  },
  {
   "cell_type": "code",
   "execution_count": null,
   "id": "e2bee2c1-030b-4e16-9a17-43d261511537",
   "metadata": {},
   "outputs": [],
   "source": [
    "parcels = parcels[parcels.CODE_CULTU.isin(list(avoid_labels.keys()))==False]"
   ]
  },
  {
   "cell_type": "code",
   "execution_count": null,
   "id": "399139ed-1c3d-4c72-96ba-91217a4d11fa",
   "metadata": {},
   "outputs": [],
   "source": [
    "parcel_counter = parcels.groupby('tile').count()['ID_PARCEL'].sort_values(ascending=False)"
   ]
  },
  {
   "cell_type": "code",
   "execution_count": null,
   "id": "2e96c5a4-72ce-4fe9-8612-4af1729625eb",
   "metadata": {},
   "outputs": [],
   "source": [
    "parcels = parcels[parcels.tile.isin(parcel_counter[parcel_counter > 1.e4].index)]"
   ]
  },
  {
   "cell_type": "raw",
   "id": "bbb5fcca-b7f1-46e9-83e4-980e24052d68",
   "metadata": {},
   "source": []
  },
  {
   "cell_type": "code",
   "execution_count": null,
   "id": "ae57de43-557b-45a5-8d46-573316e9255a",
   "metadata": {},
   "outputs": [],
   "source": [
    "# Selezioniamo le specie vegetative che hanno almento 1000 rappresentanti in media per tile \n",
    "crops_distr = parcels.groupby(by=['tile', 'CODE_CULTU']).ID_PARCEL.count().unstack(level=1).fillna(0)\n",
    "selected = crops_distr.describe().T.sort_values(by='mean', ascending=False).iloc[0:22]"
   ]
  },
  {
   "cell_type": "code",
   "execution_count": null,
   "id": "9b8e8899-8cbe-41fd-94d6-aaf9f53303b6",
   "metadata": {},
   "outputs": [],
   "source": [
    "selected"
   ]
  },
  {
   "cell_type": "code",
   "execution_count": null,
   "id": "4414b3bf-23c0-4d7d-b287-6b6370f483a2",
   "metadata": {},
   "outputs": [],
   "source": [
    "parcels = parcels[parcels.CODE_CULTU.isin(selected.index)]"
   ]
  },
  {
   "cell_type": "code",
   "execution_count": null,
   "id": "89612c0f-db5b-412b-b0bf-87fcf7e8aab8",
   "metadata": {},
   "outputs": [],
   "source": [
    "parcels.groupby(by=['tile', 'CODE_CULTU']).ID_PARCEL.count().unstack(level=1).fillna(0)"
   ]
  },
  {
   "cell_type": "code",
   "execution_count": null,
   "id": "d38b153f-3f9b-4fda-ba3c-7bebac4e8082",
   "metadata": {},
   "outputs": [],
   "source": [
    "to_plot = parcels.groupby(by=['tile', 'CODE_CULTU']).ID_PARCEL.count().unstack(level=1).fillna(0)\n",
    "to_plot = to_plot[selected.index].loc[to_plot.sum(axis=1).sort_values(ascending=False).index]\n",
    "to_plot.plot.bar(alpha=.75, figsize=(15, 5), stacked=True, legend=True)\n",
    "plt.legend(loc='upper center', ncol=12, fancybox=True, shadow=False, bbox_to_anchor=(0.5, 1.2))\n",
    "plt.tight_layout()"
   ]
  },
  {
   "cell_type": "code",
   "execution_count": null,
   "id": "10725f17-8211-446b-8b05-b50fbfdd410f",
   "metadata": {},
   "outputs": [],
   "source": [
    "import pandas as pd"
   ]
  },
  {
   "cell_type": "code",
   "execution_count": null,
   "id": "73100263-5d10-43eb-9ba3-ef972f4b1c8b",
   "metadata": {},
   "outputs": [],
   "source": [
    "veg = pd.read_csv('../../data/Vegetation-Dictionary/REF_CULTURES_GROUPES_CULTURES_2020.csv', sep=';')[['CODE_CULTURE','LIBELLE_CULTURE']]\n",
    "veg = veg.set_index('CODE_CULTURE').LIBELLE_CULTURE"
   ]
  },
  {
   "cell_type": "code",
   "execution_count": null,
   "id": "83ba50fe-2e99-419e-8e95-79568a776a27",
   "metadata": {},
   "outputs": [],
   "source": [
    "veg[to_plot.columns[(to_plot.columns.isin(list(valid_labels.keys()))==False) & \n",
    "                    (to_plot.columns.isin(list(avoid_labels.keys()))==False)]]"
   ]
  },
  {
   "cell_type": "raw",
   "id": "5cb30b69-265b-4d66-b943-22e0a81376a1",
   "metadata": {},
   "source": []
  },
  {
   "cell_type": "markdown",
   "id": "acc4709c-2da8-4135-a491-a9986c961ced",
   "metadata": {},
   "source": [
    "### Visualization of the selected parcels within the parcell"
   ]
  },
  {
   "cell_type": "code",
   "execution_count": null,
   "id": "99345f0b-2a03-48d6-ae61-2fe9ccfe6443",
   "metadata": {},
   "outputs": [],
   "source": [
    "selected_tiles = list(to_plot.index[:3])\n",
    "print(selected_tiles)"
   ]
  },
  {
   "cell_type": "code",
   "execution_count": null,
   "id": "29aad667-924d-4cf9-8186-6d3bc67faf83",
   "metadata": {},
   "outputs": [],
   "source": [
    "_map_ = folium.Map(location=[44, 5], zoom_start=6, tiles='Stamen Terrain')\n",
    "style1 = {'fillColor': 'none', 'color': '#dd3497'}\n",
    "folium.GeoJson(parcels[parcels.tile.isin(selected_tiles)].sample(10000), \n",
    "               style_function=lambda x:style1).add_to(_map_)\n",
    "display(_map_)"
   ]
  },
  {
   "cell_type": "raw",
   "id": "8e97c4a6-d73e-4ca2-921f-32a1f2035430",
   "metadata": {},
   "source": []
  }
 ],
 "metadata": {
  "kernelspec": {
   "display_name": "Python 3 (ipykernel)",
   "language": "python",
   "name": "python3"
  },
  "language_info": {
   "codemirror_mode": {
    "name": "ipython",
    "version": 3
   },
   "file_extension": ".py",
   "mimetype": "text/x-python",
   "name": "python",
   "nbconvert_exporter": "python",
   "pygments_lexer": "ipython3",
   "version": "3.10.6"
  }
 },
 "nbformat": 4,
 "nbformat_minor": 5
}
