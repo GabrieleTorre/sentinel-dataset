{
 "cells": [
  {
   "cell_type": "code",
   "execution_count": 1,
   "id": "682fc8bc-a5a2-4f02-8708-ea54888a5348",
   "metadata": {},
   "outputs": [],
   "source": [
    "from shapely.geometry import Polygon\n",
    "import geopandas as gpd\n",
    "from glob import glob\n",
    "from tqdm import tqdm\n",
    "import pandas as pd\n",
    "import folium"
   ]
  },
  {
   "cell_type": "raw",
   "id": "80f2f20c-9acb-4be1-9bda-436cc8f345c2",
   "metadata": {},
   "source": []
  },
  {
   "cell_type": "code",
   "execution_count": 2,
   "id": "5124ee00-9fb2-4eba-96c3-dc7d4c25af1f",
   "metadata": {},
   "outputs": [],
   "source": [
    "files = glob('/storage2/0/French_Land_Parcel_Identification_System/*/RPG/'+\n",
    "             '*/R*/PARCELLES_GRAPHIQUES.shp')"
   ]
  },
  {
   "cell_type": "code",
   "execution_count": 3,
   "id": "17a4e11c-ae5e-43cd-bdc0-f1dbfbe0a02e",
   "metadata": {},
   "outputs": [
    {
     "name": "stderr",
     "output_type": "stream",
     "text": [
      "  0%|                                                                 | 0/16 [00:00<?, ?it/s]"
     ]
    },
    {
     "name": "stdout",
     "output_type": "stream",
     "text": [
      "../data/RPG_2-0_SHP_LAMB93_R24_2021-01-01.geojson\n"
     ]
    },
    {
     "name": "stderr",
     "output_type": "stream",
     "text": [
      "  6%|███▌                                                    | 1/16 [03:35<53:59, 216.00s/it]"
     ]
    },
    {
     "name": "stdout",
     "output_type": "stream",
     "text": [
      "../data/RPG_2-0_SHP_LAMB93_R52_2021-01-01.geojson\n"
     ]
    },
    {
     "name": "stderr",
     "output_type": "stream",
     "text": [
      " 12%|██████▊                                               | 2/16 [08:42<1:02:48, 269.16s/it]"
     ]
    },
    {
     "name": "stdout",
     "output_type": "stream",
     "text": [
      "../data/RPG_2-0_SHP_UTM20W84MART_R02_2021-01-01.geojson\n"
     ]
    },
    {
     "name": "stderr",
     "output_type": "stream",
     "text": [
      " 19%|██████████▌                                             | 3/16 [08:50<32:26, 149.76s/it]"
     ]
    },
    {
     "name": "stdout",
     "output_type": "stream",
     "text": [
      "../data/RPG_2-0_SHP_LAMB93_R44_2021-01-01.geojson\n"
     ]
    },
    {
     "name": "stderr",
     "output_type": "stream",
     "text": [
      " 25%|██████████████                                          | 4/16 [14:11<43:32, 217.69s/it]"
     ]
    },
    {
     "name": "stdout",
     "output_type": "stream",
     "text": [
      "../data/RPG_2-0_SHP_LAMB93_R84_2021-01-01.geojson\n"
     ]
    },
    {
     "name": "stderr",
     "output_type": "stream",
     "text": [
      " 31%|████████████████▉                                     | 5/16 [23:40<1:03:06, 344.21s/it]"
     ]
    },
    {
     "name": "stdout",
     "output_type": "stream",
     "text": [
      "../data/RPG_2-0_SHP_LAMB93_R32_2021-01-01.geojson\n"
     ]
    },
    {
     "name": "stderr",
     "output_type": "stream",
     "text": [
      " 38%|█████████████████████                                   | 6/16 [27:24<50:32, 303.24s/it]"
     ]
    },
    {
     "name": "stdout",
     "output_type": "stream",
     "text": [
      "../data/RPG_2-0_SHP_LAMB93_R76_2021-01-01.geojson\n"
     ]
    },
    {
     "name": "stderr",
     "output_type": "stream",
     "text": [
      " 44%|███████████████████████▋                              | 7/16 [38:34<1:03:29, 423.33s/it]"
     ]
    },
    {
     "name": "stdout",
     "output_type": "stream",
     "text": [
      "../data/RPG_2-0_SHP_LAMB93_R53_2021-01-01.geojson\n"
     ]
    },
    {
     "name": "stderr",
     "output_type": "stream",
     "text": [
      " 50%|████████████████████████████                            | 8/16 [44:15<52:57, 397.17s/it]"
     ]
    },
    {
     "name": "stdout",
     "output_type": "stream",
     "text": [
      "../data/RPG_2-0_SHP_RGM04UTM38S_R06_2021-01-01.geojson\n"
     ]
    },
    {
     "name": "stderr",
     "output_type": "stream",
     "text": [
      " 56%|███████████████████████████████▌                        | 9/16 [44:20<32:01, 274.54s/it]"
     ]
    },
    {
     "name": "stdout",
     "output_type": "stream",
     "text": [
      "../data/RPG_2-0_SHP_LAMB93_R75_2021-01-01.geojson\n"
     ]
    },
    {
     "name": "stderr",
     "output_type": "stream",
     "text": [
      " 62%|██████████████████████████████████▍                    | 10/16 [54:53<38:30, 385.12s/it]"
     ]
    },
    {
     "name": "stdout",
     "output_type": "stream",
     "text": [
      "../data/RPG_2-0_SHP_RGR92UTM40S_R04_2021-01-01.geojson\n"
     ]
    },
    {
     "name": "stderr",
     "output_type": "stream",
     "text": [
      " 69%|█████████████████████████████████████▊                 | 11/16 [55:07<22:37, 271.52s/it]"
     ]
    },
    {
     "name": "stdout",
     "output_type": "stream",
     "text": [
      "../data/RPG_2-0_SHP_LAMB93_R28_2021-01-01.geojson\n"
     ]
    },
    {
     "name": "stderr",
     "output_type": "stream",
     "text": [
      " 75%|█████████████████████████████████████████▎             | 12/16 [58:52<17:10, 257.54s/it]"
     ]
    },
    {
     "name": "stdout",
     "output_type": "stream",
     "text": [
      "../data/RPG_2-0_SHP_UTM20W84GUAD_R01_2021-01-01.geojson\n"
     ]
    },
    {
     "name": "stderr",
     "output_type": "stream",
     "text": [
      " 81%|████████████████████████████████████████████▋          | 13/16 [59:06<09:11, 183.70s/it]"
     ]
    },
    {
     "name": "stdout",
     "output_type": "stream",
     "text": [
      "../data/RPG_2-0_SHP_LAMB93_R94_2021-01-01.geojson\n"
     ]
    },
    {
     "name": "stderr",
     "output_type": "stream",
     "text": [
      " 88%|████████████████████████████████████████████████▏      | 14/16 [59:30<04:30, 135.34s/it]"
     ]
    },
    {
     "name": "stdout",
     "output_type": "stream",
     "text": [
      "../data/RPG_2-0_SHP_LAMB93_R27_2021-01-01.geojson\n"
     ]
    },
    {
     "name": "stderr",
     "output_type": "stream",
     "text": [
      " 94%|█████████████████████████████████████████████████▋   | 15/16 [1:04:07<02:57, 177.93s/it]"
     ]
    },
    {
     "name": "stdout",
     "output_type": "stream",
     "text": [
      "../data/RPG_2-0_SHP_UTM22RGFG95_R03_2021-01-01.geojson\n"
     ]
    },
    {
     "name": "stderr",
     "output_type": "stream",
     "text": [
      "100%|█████████████████████████████████████████████████████| 16/16 [1:04:10<00:00, 240.67s/it]\n"
     ]
    }
   ],
   "source": [
    "for f in tqdm(files):\n",
    "    print('../data/'+f.split('/')[-2]+'.geojson')\n",
    "    df = gpd.read_file(f).to_crs('epsg:4326') \n",
    "    df.to_file('../data/'+f.split('/')[-2]+'.geojson', driver='GeoJSON') "
   ]
  },
  {
   "cell_type": "code",
   "execution_count": null,
   "id": "4570d416-4a85-4165-b701-ccd4e79a7287",
   "metadata": {},
   "outputs": [],
   "source": []
  }
 ],
 "metadata": {
  "kernelspec": {
   "display_name": "Python 3 (ipykernel)",
   "language": "python",
   "name": "python3"
  },
  "language_info": {
   "codemirror_mode": {
    "name": "ipython",
    "version": 3
   },
   "file_extension": ".py",
   "mimetype": "text/x-python",
   "name": "python",
   "nbconvert_exporter": "python",
   "pygments_lexer": "ipython3",
   "version": "3.10.6"
  }
 },
 "nbformat": 4,
 "nbformat_minor": 5
}
