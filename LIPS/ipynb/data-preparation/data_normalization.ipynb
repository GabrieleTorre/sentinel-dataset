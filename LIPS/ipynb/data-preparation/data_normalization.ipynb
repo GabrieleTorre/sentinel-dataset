{
 "cells": [
  {
   "cell_type": "code",
   "execution_count": 1,
   "id": "245bac70-d00c-481e-bdbf-59e9a57cb0e9",
   "metadata": {},
   "outputs": [],
   "source": [
    "import geopandas as gpd\n",
    "import numpy as np\n",
    "\n",
    "import json\n",
    "\n",
    "from tqdm import tqdm\n",
    "tqdm.pandas()"
   ]
  },
  {
   "cell_type": "raw",
   "id": "660c92a3-8a73-41c2-ac04-c61320d382d0",
   "metadata": {},
   "source": []
  },
  {
   "cell_type": "code",
   "execution_count": 2,
   "id": "a07d36f9-990a-45b8-b56f-b690f457dc91",
   "metadata": {},
   "outputs": [],
   "source": [
    "df = gpd.read_file('../../DATASET/metadata.geojson')"
   ]
  },
  {
   "cell_type": "raw",
   "id": "207e2d45-b7cc-4a84-8042-b42a01517c60",
   "metadata": {},
   "source": []
  },
  {
   "cell_type": "code",
   "execution_count": 3,
   "id": "86661c06-b9ef-4c81-abd9-06154c4686c8",
   "metadata": {},
   "outputs": [],
   "source": [
    "def get_Average(row):\n",
    "    filename = '../../DATASET/DATA_S2/{}.npy'\n",
    "    out = np.load(filename.format(row['ID_PATCH']))\n",
    "    return np.mean(out, axis=(0, 2, 3))"
   ]
  },
  {
   "cell_type": "code",
   "execution_count": 4,
   "id": "bd4dfed8-7e23-4dd1-a27c-a5a658e5b590",
   "metadata": {},
   "outputs": [
    {
     "name": "stderr",
     "output_type": "stream",
     "text": [
      "100%|███████████████████████████████████████████████████████████████████████████████████| 3947/3947 [00:15<00:00, 259.24it/s]\n",
      "100%|███████████████████████████████████████████████████████████████████████████████████| 3947/3947 [00:21<00:00, 181.59it/s]\n",
      "100%|███████████████████████████████████████████████████████████████████████████████████| 3947/3947 [00:22<00:00, 172.55it/s]\n",
      "100%|███████████████████████████████████████████████████████████████████████████████████| 3946/3946 [00:23<00:00, 170.42it/s]\n",
      "100%|███████████████████████████████████████████████████████████████████████████████████| 3946/3946 [00:22<00:00, 176.47it/s]\n"
     ]
    }
   ],
   "source": [
    "out = {}\n",
    "for i in df.Fold.unique():\n",
    "    aux = np.stack(df[df.Fold == i].progress_apply(get_Average, axis=1).tolist())\n",
    "    out.update({'Fold_{}'.format(i):{'mean':list(aux.mean(axis=0)), \n",
    "                                     'std':list(aux.std(axis=0))}})"
   ]
  },
  {
   "cell_type": "code",
   "execution_count": 5,
   "id": "5ada3b71-5534-4359-9390-c0b3e9f900eb",
   "metadata": {},
   "outputs": [],
   "source": [
    "json.dump(out, open(\"../../DATASET/NORM_S2_patch.json\", \"w\")) "
   ]
  },
  {
   "cell_type": "raw",
   "id": "5b7d3468-1b23-4e1a-b595-830364211558",
   "metadata": {},
   "source": []
  }
 ],
 "metadata": {
  "kernelspec": {
   "display_name": "Python 3 (ipykernel)",
   "language": "python",
   "name": "python3"
  },
  "language_info": {
   "codemirror_mode": {
    "name": "ipython",
    "version": 3
   },
   "file_extension": ".py",
   "mimetype": "text/x-python",
   "name": "python",
   "nbconvert_exporter": "python",
   "pygments_lexer": "ipython3",
   "version": "3.10.6"
  }
 },
 "nbformat": 4,
 "nbformat_minor": 5
}
