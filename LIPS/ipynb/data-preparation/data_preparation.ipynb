{
 "cells": [
  {
   "cell_type": "code",
   "execution_count": 1,
   "id": "ed0f336b-aee3-47ba-8f8c-c472a0523d9d",
   "metadata": {},
   "outputs": [
    {
     "name": "stdout",
     "output_type": "stream",
     "text": [
      "INFO: Pandarallel will run on 8 workers.\n",
      "INFO: Pandarallel will use Memory file system to transfer data between the main process and workers.\n"
     ]
    }
   ],
   "source": [
    "import geopandas as gpd\n",
    "import numpy as np\n",
    "\n",
    "from tqdm import tqdm\n",
    "tqdm.pandas()\n",
    "\n",
    "from pandarallel import pandarallel\n",
    "pandarallel.initialize(progress_bar=True)"
   ]
  },
  {
   "cell_type": "code",
   "execution_count": 15,
   "id": "7f545a45-1d42-413a-8efa-dbfe24379cb1",
   "metadata": {},
   "outputs": [],
   "source": [
    "!cp ../../data/Crops/metadata.geojson ../../DATASET/metadata.geojson"
   ]
  },
  {
   "cell_type": "code",
   "execution_count": 3,
   "id": "015480bc-8524-40a5-aa75-7e33b196adbe",
   "metadata": {},
   "outputs": [],
   "source": [
    "df = gpd.read_file('../../DATASET/metadata.geojson')"
   ]
  },
  {
   "cell_type": "code",
   "execution_count": 4,
   "id": "b0db895f-38fc-4dbd-b26e-edf765a5971c",
   "metadata": {},
   "outputs": [
    {
     "data": {
      "text/html": [
       "<div>\n",
       "<style scoped>\n",
       "    .dataframe tbody tr th:only-of-type {\n",
       "        vertical-align: middle;\n",
       "    }\n",
       "\n",
       "    .dataframe tbody tr th {\n",
       "        vertical-align: top;\n",
       "    }\n",
       "\n",
       "    .dataframe thead th {\n",
       "        text-align: right;\n",
       "    }\n",
       "</style>\n",
       "<table border=\"1\" class=\"dataframe\">\n",
       "  <thead>\n",
       "    <tr style=\"text-align: right;\">\n",
       "      <th></th>\n",
       "      <th>Fold</th>\n",
       "      <th>id</th>\n",
       "      <th>ID_PATCH</th>\n",
       "      <th>N_Parcel</th>\n",
       "      <th>Parcel_Cover</th>\n",
       "      <th>TILE</th>\n",
       "      <th>dates-S2</th>\n",
       "      <th>geometry</th>\n",
       "    </tr>\n",
       "  </thead>\n",
       "  <tbody>\n",
       "    <tr>\n",
       "      <th>0</th>\n",
       "      <td>1</td>\n",
       "      <td>lat46024long-416</td>\n",
       "      <td>t30tyr-0</td>\n",
       "      <td>55</td>\n",
       "      <td>0.867065</td>\n",
       "      <td>t30tyr</td>\n",
       "      <td>{'0': '20190906', '1': '20190916', '2': '20191...</td>\n",
       "      <td>POLYGON ((-0.41645 46.02437, -0.39993 46.02399...</td>\n",
       "    </tr>\n",
       "    <tr>\n",
       "      <th>1</th>\n",
       "      <td>3</td>\n",
       "      <td>lat46023long-383</td>\n",
       "      <td>t30tyr-2</td>\n",
       "      <td>53</td>\n",
       "      <td>0.816467</td>\n",
       "      <td>t30tyr</td>\n",
       "      <td>{'0': '20190906', '1': '20190916', '2': '20191...</td>\n",
       "      <td>POLYGON ((-0.38341 46.02361, -0.36689 46.02323...</td>\n",
       "    </tr>\n",
       "    <tr>\n",
       "      <th>2</th>\n",
       "      <td>4</td>\n",
       "      <td>lat46023long-366</td>\n",
       "      <td>t30tyr-3</td>\n",
       "      <td>36</td>\n",
       "      <td>0.598450</td>\n",
       "      <td>t30tyr</td>\n",
       "      <td>{'0': '20190906', '1': '20190916', '2': '20191...</td>\n",
       "      <td>POLYGON ((-0.36689 46.02323, -0.35037 46.02285...</td>\n",
       "    </tr>\n",
       "    <tr>\n",
       "      <th>3</th>\n",
       "      <td>5</td>\n",
       "      <td>lat46022long-350</td>\n",
       "      <td>t30tyr-4</td>\n",
       "      <td>25</td>\n",
       "      <td>0.561584</td>\n",
       "      <td>t30tyr</td>\n",
       "      <td>{'0': '20190906', '1': '20190916', '2': '20191...</td>\n",
       "      <td>POLYGON ((-0.35037 46.02285, -0.33385 46.02247...</td>\n",
       "    </tr>\n",
       "    <tr>\n",
       "      <th>4</th>\n",
       "      <td>1</td>\n",
       "      <td>lat46022long-333</td>\n",
       "      <td>t30tyr-5</td>\n",
       "      <td>28</td>\n",
       "      <td>0.753906</td>\n",
       "      <td>t30tyr</td>\n",
       "      <td>{'0': '20190906', '1': '20190916', '2': '20191...</td>\n",
       "      <td>POLYGON ((-0.33385 46.02247, -0.31733 46.02208...</td>\n",
       "    </tr>\n",
       "  </tbody>\n",
       "</table>\n",
       "</div>"
      ],
      "text/plain": [
       "   Fold                id  ID_PATCH  N_Parcel  Parcel_Cover    TILE  \\\n",
       "0     1  lat46024long-416  t30tyr-0        55      0.867065  t30tyr   \n",
       "1     3  lat46023long-383  t30tyr-2        53      0.816467  t30tyr   \n",
       "2     4  lat46023long-366  t30tyr-3        36      0.598450  t30tyr   \n",
       "3     5  lat46022long-350  t30tyr-4        25      0.561584  t30tyr   \n",
       "4     1  lat46022long-333  t30tyr-5        28      0.753906  t30tyr   \n",
       "\n",
       "                                            dates-S2  \\\n",
       "0  {'0': '20190906', '1': '20190916', '2': '20191...   \n",
       "1  {'0': '20190906', '1': '20190916', '2': '20191...   \n",
       "2  {'0': '20190906', '1': '20190916', '2': '20191...   \n",
       "3  {'0': '20190906', '1': '20190916', '2': '20191...   \n",
       "4  {'0': '20190906', '1': '20190916', '2': '20191...   \n",
       "\n",
       "                                            geometry  \n",
       "0  POLYGON ((-0.41645 46.02437, -0.39993 46.02399...  \n",
       "1  POLYGON ((-0.38341 46.02361, -0.36689 46.02323...  \n",
       "2  POLYGON ((-0.36689 46.02323, -0.35037 46.02285...  \n",
       "3  POLYGON ((-0.35037 46.02285, -0.33385 46.02247...  \n",
       "4  POLYGON ((-0.33385 46.02247, -0.31733 46.02208...  "
      ]
     },
     "execution_count": 4,
     "metadata": {},
     "output_type": "execute_result"
    }
   ],
   "source": [
    "df.head()"
   ]
  },
  {
   "cell_type": "raw",
   "id": "2ff4cb89-f44d-4cec-9a08-b053adedfe0e",
   "metadata": {},
   "source": []
  },
  {
   "cell_type": "code",
   "execution_count": 38,
   "id": "0ffd4fa8-1b7b-42b1-ae62-7b4a041edb26",
   "metadata": {},
   "outputs": [],
   "source": [
    "def generate_data_file(row):\n",
    "    file_in  = '/extra/Sentinel-2-crops/{}/{}/{}.npy'\n",
    "    file_out = '/projects/Deepleey/agri-tech/sentinel-datasets/LIPS/DATASET/DATA_S2/S2_{}.npy'    \n",
    "    aux = np.stack([np.load(file_in.format(row['TILE'].upper(), row['id'], v))  for _, v in row['dates-S2'].items()])\n",
    "    np.save(open(file_out.format(row['ID_PATCH']), 'wb'), aux)\n",
    "    \n",
    "def move_target_file(row):\n",
    "    file_in  = '/extra/Sentinel-2-crops/{}/TARGETS/TARGET_{}.npy'\n",
    "    file_out = '/projects/Deepleey/agri-tech/sentinel-datasets/LIPS/DATASET/ANNOTATIONS/TARGET_{}.npy'    \n",
    "    aux = np.load(file_in.format(row['TILE'].upper(), row['id'])) \n",
    "    np.save(open(file_out.format(row['ID_PATCH']), 'wb'), aux)"
   ]
  },
  {
   "cell_type": "raw",
   "id": "9ad8d41a-fa22-4335-9bd8-d0b31597a3a0",
   "metadata": {},
   "source": []
  },
  {
   "cell_type": "code",
   "execution_count": 39,
   "id": "bf659e0e-9f9e-4587-aa30-498b33d419b4",
   "metadata": {},
   "outputs": [
    {
     "data": {
      "application/vnd.jupyter.widget-view+json": {
       "model_id": "82da8fe903ef42e992f4ccba98093728",
       "version_major": 2,
       "version_minor": 0
      },
      "text/plain": [
       "VBox(children=(HBox(children=(IntProgress(value=0, description='0.00%', max=2467), Label(value='0 / 2467'))), …"
      ]
     },
     "metadata": {},
     "output_type": "display_data"
    }
   ],
   "source": [
    "#_ = df.parallel_apply(generate_data_file, axis=1)\n",
    "_ = df.parallel_apply(move_target_file, axis=1)"
   ]
  },
  {
   "cell_type": "raw",
   "id": "dd034474-5171-40b9-8150-51ccb2653b01",
   "metadata": {},
   "source": []
  },
  {
   "cell_type": "code",
   "execution_count": 40,
   "id": "84b56db1-7858-42e3-8e18-420e62472c47",
   "metadata": {},
   "outputs": [],
   "source": [
    "!cp -r /projects/Deepleey/agri-tech/sentinel-datasets/LIPS/DATASET/ANNOTATIONS/ /extra/DATASET"
   ]
  },
  {
   "cell_type": "raw",
   "id": "414e92c7-accf-4509-98f3-1a349a240e00",
   "metadata": {},
   "source": []
  }
 ],
 "metadata": {
  "kernelspec": {
   "display_name": "Python 3 (ipykernel)",
   "language": "python",
   "name": "python3"
  },
  "language_info": {
   "codemirror_mode": {
    "name": "ipython",
    "version": 3
   },
   "file_extension": ".py",
   "mimetype": "text/x-python",
   "name": "python",
   "nbconvert_exporter": "python",
   "pygments_lexer": "ipython3",
   "version": "3.10.6"
  }
 },
 "nbformat": 4,
 "nbformat_minor": 5
}
